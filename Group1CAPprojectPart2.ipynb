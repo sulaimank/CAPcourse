{
 "cells": [
  {
   "cell_type": "markdown",
   "metadata": {},
   "source": [
    "# Team 1 - CAP5619 Project\n",
    "#### Marco Bogani, Sulaiman Karmali, Daman Sawhney, Ivan Lima\n",
    "\n",
    "## Define the problem:\n",
    "\n",
    "Considering the economic climate from 2022 to today, one of the most apparent changes that took place was car prices and sales. Dealerships continuously face the challenges, of optimizing sales strategies to cater to a multitude of diverse demographics and preferences. Our study aims to leverage our car sales dataset to predict future car sales trends, partition customers based on their purchase behavior, and determine the best pricing strategy for different car models. By applying regression models for sales forecasting, clustering techniques for customer segmentation, and machine learning algorithms for price optimization, this analysis aims to discover patterns and insights that can inform targeted marketing campaigns and efficient inventory management. Thus the overall goal is to enable dealerships to better understand their customers' preferences, better adjust to market climate changes, and ultimately improve both sales performance and customer satisfaction. Moreover, this comprehensive approach will let dealerships gain a competitive edge in the car market by making data-driven decisions that align with customer trends and expectations. "
   ]
  },
  {
   "cell_type": "markdown",
   "metadata": {},
   "source": []
  },
  {
   "cell_type": "markdown",
   "metadata": {},
   "source": []
  },
  {
   "cell_type": "markdown",
   "metadata": {},
   "source": [
    "## Load Libraries:"
   ]
  },
  {
   "cell_type": "code",
   "execution_count": 6,
   "metadata": {},
   "outputs": [],
   "source": [
    "import pandas as pd\n",
    "import matplotlib.pyplot as plt\n",
    "import seaborn as sns\n",
    "import scipy\n",
    "from sklearn.base import TransformerMixin, BaseEstimator\n",
    "from sklearn.model_selection import train_test_split\n",
    "from sklearn.compose import ColumnTransformer\n",
    "from sklearn.pipeline import Pipeline\n",
    "from sklearn.metrics import accuracy_score, precision_score, recall_score, f1_score, roc_auc_score, roc_curve\n",
    "from sklearn.naive_bayes import GaussianNB\n",
    "from sklearn.svm import SVC\n",
    "from sklearn.neural_network import MLPClassifier\n",
    "from sklearn.ensemble import RandomForestClassifier, GradientBoostingClassifier, VotingClassifier\n",
    "from sklearn.linear_model import LogisticRegression\n",
    "from sklearn.metrics import roc_auc_score\n",
    "from sklearn.preprocessing import OneHotEncoder, LabelEncoder, MinMaxScaler, StandardScaler\n",
    "from sklearn.utils import resample\n",
    "from sklearn.cluster import KMeans"
   ]
  },
  {
   "cell_type": "markdown",
   "metadata": {},
   "source": [
    "## Load Dataset:"
   ]
  },
  {
   "cell_type": "code",
   "execution_count": 7,
   "metadata": {},
   "outputs": [
    {
     "data": {
      "text/html": [
       "<div>\n",
       "<style scoped>\n",
       "    .dataframe tbody tr th:only-of-type {\n",
       "        vertical-align: middle;\n",
       "    }\n",
       "\n",
       "    .dataframe tbody tr th {\n",
       "        vertical-align: top;\n",
       "    }\n",
       "\n",
       "    .dataframe thead th {\n",
       "        text-align: right;\n",
       "    }\n",
       "</style>\n",
       "<table border=\"1\" class=\"dataframe\">\n",
       "  <thead>\n",
       "    <tr style=\"text-align: right;\">\n",
       "      <th></th>\n",
       "      <th>Date</th>\n",
       "      <th>Gender</th>\n",
       "      <th>Annual Income</th>\n",
       "      <th>Company</th>\n",
       "      <th>Model</th>\n",
       "      <th>Transmission</th>\n",
       "      <th>Color</th>\n",
       "      <th>Price ($)</th>\n",
       "      <th>Body Style</th>\n",
       "      <th>Dealer_Region</th>\n",
       "    </tr>\n",
       "  </thead>\n",
       "  <tbody>\n",
       "    <tr>\n",
       "      <th>0</th>\n",
       "      <td>1/2/2022</td>\n",
       "      <td>Male</td>\n",
       "      <td>13500</td>\n",
       "      <td>Ford</td>\n",
       "      <td>Expedition</td>\n",
       "      <td>Auto</td>\n",
       "      <td>Black</td>\n",
       "      <td>26000</td>\n",
       "      <td>SUV</td>\n",
       "      <td>Middletown</td>\n",
       "    </tr>\n",
       "    <tr>\n",
       "      <th>1</th>\n",
       "      <td>1/2/2022</td>\n",
       "      <td>Male</td>\n",
       "      <td>1480000</td>\n",
       "      <td>Dodge</td>\n",
       "      <td>Durango</td>\n",
       "      <td>Auto</td>\n",
       "      <td>Black</td>\n",
       "      <td>19000</td>\n",
       "      <td>SUV</td>\n",
       "      <td>Aurora</td>\n",
       "    </tr>\n",
       "    <tr>\n",
       "      <th>2</th>\n",
       "      <td>1/2/2022</td>\n",
       "      <td>Male</td>\n",
       "      <td>1035000</td>\n",
       "      <td>Cadillac</td>\n",
       "      <td>Eldorado</td>\n",
       "      <td>Manual</td>\n",
       "      <td>Red</td>\n",
       "      <td>31500</td>\n",
       "      <td>Passenger</td>\n",
       "      <td>Greenville</td>\n",
       "    </tr>\n",
       "    <tr>\n",
       "      <th>3</th>\n",
       "      <td>1/2/2022</td>\n",
       "      <td>Male</td>\n",
       "      <td>13500</td>\n",
       "      <td>Toyota</td>\n",
       "      <td>Celica</td>\n",
       "      <td>Manual</td>\n",
       "      <td>Pale White</td>\n",
       "      <td>14000</td>\n",
       "      <td>SUV</td>\n",
       "      <td>Pasco</td>\n",
       "    </tr>\n",
       "    <tr>\n",
       "      <th>4</th>\n",
       "      <td>1/2/2022</td>\n",
       "      <td>Male</td>\n",
       "      <td>1465000</td>\n",
       "      <td>Acura</td>\n",
       "      <td>TL</td>\n",
       "      <td>Auto</td>\n",
       "      <td>Red</td>\n",
       "      <td>24500</td>\n",
       "      <td>Hatchback</td>\n",
       "      <td>Janesville</td>\n",
       "    </tr>\n",
       "  </tbody>\n",
       "</table>\n",
       "</div>"
      ],
      "text/plain": [
       "       Date Gender  Annual Income   Company       Model Transmission  \\\n",
       "0  1/2/2022   Male          13500      Ford  Expedition         Auto   \n",
       "1  1/2/2022   Male        1480000     Dodge     Durango         Auto   \n",
       "2  1/2/2022   Male        1035000  Cadillac    Eldorado       Manual   \n",
       "3  1/2/2022   Male          13500    Toyota      Celica       Manual   \n",
       "4  1/2/2022   Male        1465000     Acura          TL         Auto   \n",
       "\n",
       "        Color  Price ($) Body Style Dealer_Region  \n",
       "0       Black      26000        SUV    Middletown  \n",
       "1       Black      19000        SUV        Aurora  \n",
       "2         Red      31500  Passenger    Greenville  \n",
       "3  Pale White      14000        SUV         Pasco  \n",
       "4         Red      24500  Hatchback    Janesville  "
      ]
     },
     "execution_count": 7,
     "metadata": {},
     "output_type": "execute_result"
    }
   ],
   "source": [
    "# Load the data\n",
    "#data = pd.read_csv('carSales.csv') #Full data - Long processsing time\n",
    "#version '2' is a cut down dataset for faster testing\n",
    "data = pd.read_csv(r\"C:\\Users\\Setup User\\Downloads\\carSales2.csv\") \n",
    "data.columns\n",
    "data = data.drop(columns=['Customer Name','Dealer_Name','Phone','Dealer_No ','Car_id', 'Engine'])\n",
    "data.head(5)"
   ]
  },
  {
   "cell_type": "markdown",
   "metadata": {},
   "source": [
    "## Summarize Data:\n",
    "\n",
    "The dataset being worked with is clean when it comes to NaN and NULL values as shown below."
   ]
  },
  {
   "cell_type": "code",
   "execution_count": 8,
   "metadata": {},
   "outputs": [
    {
     "name": "stdout",
     "output_type": "stream",
     "text": [
      "DataFrame data types: \n",
      " Date             datetime64[ns]\n",
      "Gender                   object\n",
      "Annual Income             int64\n",
      "Company                  object\n",
      "Model                    object\n",
      "Transmission             object\n",
      "Color                    object\n",
      "Price ($)                 int64\n",
      "Body Style               object\n",
      "Dealer_Region            object\n",
      "dtype: object\n",
      "NA data counts: \n",
      " Date             0\n",
      "Gender           0\n",
      "Annual Income    0\n",
      "Company          0\n",
      "Model            0\n",
      "Transmission     0\n",
      "Color            0\n",
      "Price ($)        0\n",
      "Body Style       0\n",
      "Dealer_Region    0\n",
      "dtype: int64\n",
      "\n",
      "NULL data counts: \n",
      " Date             0\n",
      "Gender           0\n",
      "Annual Income    0\n",
      "Company          0\n",
      "Model            0\n",
      "Transmission     0\n",
      "Color            0\n",
      "Price ($)        0\n",
      "Body Style       0\n",
      "Dealer_Region    0\n",
      "dtype: int64\n"
     ]
    }
   ],
   "source": [
    "# Convert the Date column to datetime\n",
    "data['Date'] = pd.to_datetime(data['Date'])\n",
    "\n",
    "# check for na or Null values\n",
    "isnacount = data.isna().sum()\n",
    "isnullcount = data.isnull().sum()\n",
    "\n",
    "# print results\n",
    "print(\"DataFrame data types: \\n\", data.dtypes)\n",
    "print(\"NA data counts: \\n\", isnacount)\n",
    "print(\"\\nNULL data counts: \\n\", isnullcount)"
   ]
  },
  {
   "cell_type": "markdown",
   "metadata": {},
   "source": [
    "This shape can help understand the complexity of the dataset. It is important to remember the number of columns here as they will change when encoding occurs."
   ]
  },
  {
   "cell_type": "code",
   "execution_count": 9,
   "metadata": {},
   "outputs": [
    {
     "name": "stdout",
     "output_type": "stream",
     "text": [
      "Number of rows: 994\n",
      "Number of columns: 10\n"
     ]
    }
   ],
   "source": [
    "# Get the number of rows and columns\n",
    "num_rows, num_columns = data.shape\n",
    "\n",
    "# Print the number of rows and columns\n",
    "print(f\"Number of rows: {num_rows}\")\n",
    "print(f\"Number of columns: {num_columns}\")"
   ]
  },
  {
   "cell_type": "markdown",
   "metadata": {},
   "source": [
    "Below, column info can be gathered. This is to better understand what data we are working with. This will also prepare us for feature selection.+"
   ]
  },
  {
   "cell_type": "code",
   "execution_count": 10,
   "metadata": {},
   "outputs": [
    {
     "name": "stdout",
     "output_type": "stream",
     "text": [
      "Body Style: ['SUV', 'Passenger', 'Hatchback', 'Hardtop', 'Sedan']\n",
      "Model: ['Expedition', 'Durango', 'Eldorado', 'Celica', 'TL', 'Diamante', 'Corolla', 'Galant', 'Malibu', 'Escort', 'RL', 'Pathfinder', 'Grand Marquis', '323i', 'Sebring Coupe', 'Forester', 'Accent', 'Land Cruiser', 'Accord', '4Runner', 'I30', 'A4', 'Carrera Cabrio', 'Jetta', 'Viper', 'Regal', 'LHS', 'LW', '3000GT', 'SLK230', 'Civic', 'S-Type', 'S40', 'Mountaineer', 'Park Avenue', 'Montero Sport', 'Sentra', 'S80', 'Lumina', 'Bonneville', 'C-Class', 'Altima', 'DeVille', 'Stratus', 'Cougar', 'SW', 'C70', 'SLK', 'Tacoma', 'M-Class', 'A6', 'Intrepid', 'Sienna', 'Eclipse', 'Contour', 'Town car', 'Focus', 'Mustang', 'Cutlass', 'Corvette', 'Impala', 'Cabrio', 'Dakota', '300M', '328i', 'Bravada', 'Maxima', 'Ram Pickup', 'Concorde', 'V70', 'Quest', 'ES300', 'SL-Class', 'Explorer', 'Prizm', 'Camaro', 'Outback', 'Taurus', 'Cavalier', 'GS400', 'Monte Carlo', 'Sonata', 'Sable', 'Metro', 'Voyager', 'Cirrus', 'Avenger', 'Odyssey', 'Intrigue', 'Silhouette', '5-Sep', '528i', 'LS400', 'Aurora', 'Breeze', 'Beetle', 'Elantra', 'Continental', 'RAV4', 'Villager', 'S70', 'LS', 'Ram Van', 'S-Class', 'E-Class', 'Grand Am', 'SC', 'Passat', 'Xterra', 'Frontier', 'Crown Victoria', 'Camry', 'Navigator', 'CL500', 'Escalade', 'Golf', 'Ranger', 'Prowler', 'Windstar', 'GTI', 'Passport', 'Boxter', 'LX470', 'CR-V', 'Sunfire', 'Caravan', 'Ram Wagon', 'Neon', 'Wrangler', 'Integra', 'Grand Prix', 'Grand Cherokee', 'F-Series', 'A8', 'Mystique', '3-Sep', 'Cherokee', 'Carrera Coupe', 'Catera', 'Seville', 'CLK Coupe', 'LeSabre', 'Sebring Conv.', 'GS300', 'Firebird', 'V40', 'Montero', 'Town & Country', 'SL', 'Alero', 'Mirage']\n",
      "Company: ['Ford', 'Dodge', 'Cadillac', 'Toyota', 'Acura', 'Mitsubishi', 'Chevrolet', 'Nissan', 'Mercury', 'BMW', 'Chrysler', 'Subaru', 'Hyundai', 'Honda', 'Infiniti', 'Audi', 'Porsche', 'Volkswagen', 'Buick', 'Saturn', 'Mercedes-B', 'Jaguar', 'Volvo', 'Pontiac', 'Lincoln', 'Oldsmobile', 'Lexus', 'Plymouth', 'Saab', 'Jeep']\n",
      "Color: ['Black', 'Red', 'Pale White']\n"
     ]
    }
   ],
   "source": [
    "# Setup column name variable and empty dictionary\n",
    "columns = ['Body Style','Model', 'Company', 'Color'] \n",
    "unique_values_dict = {}\n",
    "\n",
    "for column in columns:\n",
    "    unique_values_dict[column] = data[column].unique().tolist()\n",
    "\n",
    "# Print the unique values for each column\n",
    "for column, unique_values in unique_values_dict.items():\n",
    "    print(f\"{column}: {unique_values}\")"
   ]
  },
  {
   "cell_type": "markdown",
   "metadata": {},
   "source": [
    "Above, it can be seen that the Engine column has a corrupted character and that there are no similar features like 'light blue' or 'dark blue.'"
   ]
  },
  {
   "cell_type": "code",
   "execution_count": 11,
   "metadata": {},
   "outputs": [],
   "source": [
    "# Change just the engine column to correct typo\n",
    "data['Model'] = data['Model'].replace('Eldorado', 'El Dorado')\n"
   ]
  },
  {
   "cell_type": "markdown",
   "metadata": {},
   "source": [
    "Below is a complete verification of columns and their unique value syntax validation."
   ]
  },
  {
   "cell_type": "code",
   "execution_count": 12,
   "metadata": {},
   "outputs": [
    {
     "name": "stdout",
     "output_type": "stream",
     "text": [
      "Body Style: ['SUV', 'Passenger', 'Hatchback', 'Hardtop', 'Sedan']\n",
      "Color: ['Black', 'Red', 'Pale White']\n",
      "Transmission: ['Auto', 'Manual']\n",
      "Gender: ['Male', 'Female']\n",
      "Price ($): [26000, 19000, 31500, 14000, 24500, 12000, 42000, 82000, 15000, 31000, 46000, 9000, 17000, 18000, 33000, 21000, 25000, 22000, 31250, 41000, 13000, 20000, 43000, 16000, 61000, 39000, 42500, 45001, 36001, 21001, 29000, 27000, 25600, 36000, 31100, 22600, 45000, 62000, 22700, 49000, 28000, 22001, 25001, 12800, 22500, 46500, 54000, 16001, 38000, 21200, 71000, 57001, 62001, 69001, 20001, 26750, 24000, 28501, 15500, 12500, 27250, 11000, 26500, 69000, 14150, 60500, 44000, 11650, 11800, 27500, 16900, 14200, 51000, 32000, 39500, 13500, 9250, 29500, 18501, 17001, 23500, 53000, 60750, 24001, 35000, 18500, 21500, 41100, 20200, 59000, 57000, 25500, 19100, 10000, 23000, 11501, 24250, 37000, 54500, 25100, 34000, 21900, 29200, 85000, 43500, 14500, 16500, 85600, 75000, 71500, 61500, 19500, 29001, 60000, 28001, 60001, 22100, 21100, 31001, 36600, 53500, 49300, 17500, 26001, 23501, 9200, 22650, 57500, 39600, 28100, 9500, 16700, 69500, 18001, 45500, 15601, 16800, 22200, 39501, 19001, 20500, 14100, 12001, 34300, 51200, 32500, 49500, 20600, 33500, 49001, 39001, 85001, 26501, 18100, 62500, 15510, 14001, 27501, 16251, 26251, 10500, 29300, 22250, 19020, 15001, 18250, 12300, 41500, 42200, 51850, 82500, 15100, 45200, 44001, 20700, 28500, 51500, 28800, 53001, 75500, 17250, 12700, 27200, 22150, 15400, 19750]\n",
      "Model: ['Expedition', 'Durango', 'El Dorado', 'Celica', 'TL', 'Diamante', 'Corolla', 'Galant', 'Malibu', 'Escort', 'RL', 'Pathfinder', 'Grand Marquis', '323i', 'Sebring Coupe', 'Forester', 'Accent', 'Land Cruiser', 'Accord', '4Runner', 'I30', 'A4', 'Carrera Cabrio', 'Jetta', 'Viper', 'Regal', 'LHS', 'LW', '3000GT', 'SLK230', 'Civic', 'S-Type', 'S40', 'Mountaineer', 'Park Avenue', 'Montero Sport', 'Sentra', 'S80', 'Lumina', 'Bonneville', 'C-Class', 'Altima', 'DeVille', 'Stratus', 'Cougar', 'SW', 'C70', 'SLK', 'Tacoma', 'M-Class', 'A6', 'Intrepid', 'Sienna', 'Eclipse', 'Contour', 'Town car', 'Focus', 'Mustang', 'Cutlass', 'Corvette', 'Impala', 'Cabrio', 'Dakota', '300M', '328i', 'Bravada', 'Maxima', 'Ram Pickup', 'Concorde', 'V70', 'Quest', 'ES300', 'SL-Class', 'Explorer', 'Prizm', 'Camaro', 'Outback', 'Taurus', 'Cavalier', 'GS400', 'Monte Carlo', 'Sonata', 'Sable', 'Metro', 'Voyager', 'Cirrus', 'Avenger', 'Odyssey', 'Intrigue', 'Silhouette', '5-Sep', '528i', 'LS400', 'Aurora', 'Breeze', 'Beetle', 'Elantra', 'Continental', 'RAV4', 'Villager', 'S70', 'LS', 'Ram Van', 'S-Class', 'E-Class', 'Grand Am', 'SC', 'Passat', 'Xterra', 'Frontier', 'Crown Victoria', 'Camry', 'Navigator', 'CL500', 'Escalade', 'Golf', 'Ranger', 'Prowler', 'Windstar', 'GTI', 'Passport', 'Boxter', 'LX470', 'CR-V', 'Sunfire', 'Caravan', 'Ram Wagon', 'Neon', 'Wrangler', 'Integra', 'Grand Prix', 'Grand Cherokee', 'F-Series', 'A8', 'Mystique', '3-Sep', 'Cherokee', 'Carrera Coupe', 'Catera', 'Seville', 'CLK Coupe', 'LeSabre', 'Sebring Conv.', 'GS300', 'Firebird', 'V40', 'Montero', 'Town & Country', 'SL', 'Alero', 'Mirage']\n"
     ]
    }
   ],
   "source": [
    "# Setup column name variable and empty dictionary\n",
    "columns = ['Body Style','Color','Transmission','Gender','Price ($)','Model']  # replace with your actual column names\n",
    "unique_values_dict = {}\n",
    "\n",
    "for column in columns:\n",
    "    unique_values_dict[column] = data[column].unique().tolist()\n",
    "\n",
    "# Print the unique values for each column\n",
    "for column, unique_values in unique_values_dict.items():\n",
    "    print(f\"{column}: {unique_values}\")"
   ]
  },
  {
   "cell_type": "markdown",
   "metadata": {},
   "source": [
    "## Descriptive Statistics & Data Visualizations:\n",
    "\n",
    "At this point, only Annual Income and Price are the numerical columns in the dataframe. We can see their quartiles, minimum and maximum values, etc."
   ]
  },
  {
   "cell_type": "code",
   "execution_count": 13,
   "metadata": {},
   "outputs": [
    {
     "data": {
      "text/html": [
       "<div>\n",
       "<style scoped>\n",
       "    .dataframe tbody tr th:only-of-type {\n",
       "        vertical-align: middle;\n",
       "    }\n",
       "\n",
       "    .dataframe tbody tr th {\n",
       "        vertical-align: top;\n",
       "    }\n",
       "\n",
       "    .dataframe thead th {\n",
       "        text-align: right;\n",
       "    }\n",
       "</style>\n",
       "<table border=\"1\" class=\"dataframe\">\n",
       "  <thead>\n",
       "    <tr style=\"text-align: right;\">\n",
       "      <th></th>\n",
       "      <th>Date</th>\n",
       "      <th>Annual Income</th>\n",
       "      <th>Price ($)</th>\n",
       "    </tr>\n",
       "  </thead>\n",
       "  <tbody>\n",
       "    <tr>\n",
       "      <th>count</th>\n",
       "      <td>994</td>\n",
       "      <td>994.00</td>\n",
       "      <td>994.00</td>\n",
       "    </tr>\n",
       "    <tr>\n",
       "      <th>mean</th>\n",
       "      <td>2022-02-12 08:56:00.965794816</td>\n",
       "      <td>855035.33</td>\n",
       "      <td>27686.26</td>\n",
       "    </tr>\n",
       "    <tr>\n",
       "      <th>min</th>\n",
       "      <td>2022-01-02 00:00:00</td>\n",
       "      <td>13500.00</td>\n",
       "      <td>9000.00</td>\n",
       "    </tr>\n",
       "    <tr>\n",
       "      <th>25%</th>\n",
       "      <td>2022-01-23 00:00:00</td>\n",
       "      <td>387000.00</td>\n",
       "      <td>18000.00</td>\n",
       "    </tr>\n",
       "    <tr>\n",
       "      <th>50%</th>\n",
       "      <td>2022-02-15 00:00:00</td>\n",
       "      <td>760000.00</td>\n",
       "      <td>22675.00</td>\n",
       "    </tr>\n",
       "    <tr>\n",
       "      <th>75%</th>\n",
       "      <td>2022-03-05 00:00:00</td>\n",
       "      <td>1257500.00</td>\n",
       "      <td>33000.00</td>\n",
       "    </tr>\n",
       "    <tr>\n",
       "      <th>max</th>\n",
       "      <td>2022-03-19 00:00:00</td>\n",
       "      <td>4735000.00</td>\n",
       "      <td>85600.00</td>\n",
       "    </tr>\n",
       "    <tr>\n",
       "      <th>std</th>\n",
       "      <td>NaN</td>\n",
       "      <td>706592.17</td>\n",
       "      <td>14184.53</td>\n",
       "    </tr>\n",
       "  </tbody>\n",
       "</table>\n",
       "</div>"
      ],
      "text/plain": [
       "                                Date  Annual Income  Price ($)\n",
       "count                            994         994.00     994.00\n",
       "mean   2022-02-12 08:56:00.965794816      855035.33   27686.26\n",
       "min              2022-01-02 00:00:00       13500.00    9000.00\n",
       "25%              2022-01-23 00:00:00      387000.00   18000.00\n",
       "50%              2022-02-15 00:00:00      760000.00   22675.00\n",
       "75%              2022-03-05 00:00:00     1257500.00   33000.00\n",
       "max              2022-03-19 00:00:00     4735000.00   85600.00\n",
       "std                              NaN      706592.17   14184.53"
      ]
     },
     "execution_count": 13,
     "metadata": {},
     "output_type": "execute_result"
    }
   ],
   "source": [
    "dfdesc = data.describe()\n",
    "dfdesc.round(2)"
   ]
  },
  {
   "cell_type": "markdown",
   "metadata": {},
   "source": [
    "To better understand underlying correlations which will help us better build the prediction model, we must remove outlier data. In the visualizations below, you can see how removing outliers makes the data more legible and the smaller differences in class trends can be observed."
   ]
  },
  {
   "cell_type": "code",
   "execution_count": 14,
   "metadata": {},
   "outputs": [
    {
     "data": {
      "image/png": "[encoded data removed]",
      "text/plain": [
       "<Figure size 1200x600 with 1 Axes>"
      ]
     },
     "metadata": {},
     "output_type": "display_data"
    }
   ],
   "source": [
    "# Visualize with basic dataframe without any preprocessing\n",
    "plt.figure(figsize=(12, 6))\n",
    "sns.violinplot(x='Body Style', y='Annual Income', data=data)\n",
    "plt.title('Annual Income Distribution across Body Styles')\n",
    "plt.xlabel('Body Style')\n",
    "plt.ylabel('Annual Income')\n",
    "plt.show()"
   ]
  },
  {
   "cell_type": "markdown",
   "metadata": {},
   "source": [
    "Only Annual Income was refined for outliers as that data is primary value that can be uncorrelated to the price of a purchased vehice."
   ]
  },
  {
   "cell_type": "code",
   "execution_count": 15,
   "metadata": {},
   "outputs": [
    {
     "name": "stdout",
     "output_type": "stream",
     "text": [
      "Annual Income class outliers:\n",
      " 48     4060000\n",
      "122    3000000\n",
      "125    2800000\n",
      "158    2750000\n",
      "174    2810000\n",
      "Name: Annual Income, dtype: int64\n",
      "Outliers were not removed correctly.\n"
     ]
    }
   ],
   "source": [
    "# Calculate the Inter Quartile Range for Annual Income\n",
    "Q1 = data['Annual Income'].quantile(0.25)\n",
    "Q3 = data['Annual Income'].quantile(0.75)\n",
    "IQR = Q3 - Q1\n",
    "\n",
    "# Define the cutoff for outliers\n",
    "cutoff = IQR * 1.5\n",
    "\n",
    "# Determine the bounds for the outliers\n",
    "lower_bound = Q1 - cutoff\n",
    "upper_bound = Q3 + cutoff\n",
    "\n",
    "df_outliers = data[(data['Annual Income'] < lower_bound) | (data['Annual Income'] > upper_bound)]\n",
    "\n",
    "# Print the outliers\n",
    "print(\"Annual Income class outliers:\\n\", df_outliers['Annual Income'].head(5))\n",
    "\n",
    "# Filter the dataframe to remove outliers from 'Annual Income'\n",
    "df = data[(data['Annual Income'] >= lower_bound) & (data['Annual Income'] <= upper_bound)]\n",
    "\n",
    "# Check if any values in the filtered DataFrame fall outside the bounds\n",
    "outliers_present = any((data['Annual Income'] < lower_bound) | (data['Annual Income'] > upper_bound))\n",
    "\n",
    "# Print result and confirm process complete.\n",
    "if outliers_present:\n",
    "    print(\"Outliers were not removed correctly.\")\n",
    "else:\n",
    "    print(\"Outliers were removed correctly.\")"
   ]
  },
  {
   "cell_type": "code",
   "execution_count": 16,
   "metadata": {},
   "outputs": [
    {
     "data": {
      "image/png": "[encoded data removed]",
      "text/plain": [
       "<Figure size 1200x600 with 1 Axes>"
      ]
     },
     "metadata": {},
     "output_type": "display_data"
    }
   ],
   "source": [
    "# Now visualized the data without outliers\n",
    "plt.figure(figsize=(12, 6))\n",
    "sns.violinplot(x='Body Style', y='Annual Income', data=data)\n",
    "plt.title('Annual Income Distribution across Body Styles (Outliers Removed)')\n",
    "plt.xlabel('Body Style')\n",
    "plt.ylabel('Annual Income')\n",
    "plt.show()"
   ]
  },
  {
   "cell_type": "markdown",
   "metadata": {},
   "source": [
    "In this particular context, since the pinching occurs at a similar income level across all body styles, it could indicate a common income value around which fewer people purchase cars, regardless of the body style. This might suggest a market segment that is underserved or has fewer customers."
   ]
  },
  {
   "cell_type": "markdown",
   "metadata": {},
   "source": [
    "## Clean & Prepare Data:"
   ]
  },
  {
   "cell_type": "markdown",
   "metadata": {},
   "source": [
    "Since the dataset ranges over 2 years, the significant trends in an established industry are not intense. As such, it is decided removing date from the data would not have a meaningful impact to the model's performance.\n",
    "\n",
    "Model was the only class with many features and was label encoded instead to keep our dataset from getting too large."
   ]
  },
  {
   "cell_type": "code",
   "execution_count": 17,
   "metadata": {},
   "outputs": [
    {
     "name": "stdout",
     "output_type": "stream",
     "text": [
      "  Gender  Annual Income  Company  Model Transmission       Color  Price ($)  \\\n",
      "0   Male          13500        8     58         Auto       Black      26000   \n",
      "1   Male        1480000        7     50         Auto       Black      19000   \n",
      "2   Male        1035000        4     54       Manual         Red      31500   \n",
      "3   Male          13500       27     35       Manual  Pale White      14000   \n",
      "4   Male        1465000        0    138         Auto         Red      24500   \n",
      "\n",
      "  Body Style Dealer_Region  \n",
      "0        SUV    Middletown  \n",
      "1        SUV        Aurora  \n",
      "2  Passenger    Greenville  \n",
      "3        SUV         Pasco  \n",
      "4  Hatchback    Janesville  \n"
     ]
    }
   ],
   "source": [
    "remappeddf = data.copy()\n",
    "remappeddf.drop(columns=['Date'], inplace=True)\n",
    "\n",
    "# Setup the label encoder\n",
    "le = LabelEncoder()\n",
    "\n",
    "# Fit and transform the 'Model' column\n",
    "remappeddf['Model'] = le.fit_transform(remappeddf['Model'])\n",
    "remappeddf['Company'] = le.fit_transform(remappeddf['Company'])\n",
    "\n",
    "print(remappeddf.head(5))"
   ]
  },
  {
   "cell_type": "markdown",
   "metadata": {},
   "source": [
    "## Feature Selection and Data Transformations"
   ]
  },
  {
   "cell_type": "markdown",
   "metadata": {},
   "source": [
    "Features above have a few classes except Price and model. One Hot encoding will be good for the features which are not Price and Model. For the Model class, a label encoder is used due to the large amount of models. MixMax scaling was applied to Annual income and Price ($) data to make it more normalized."
   ]
  },
  {
   "cell_type": "code",
   "execution_count": 18,
   "metadata": {},
   "outputs": [
    {
     "name": "stdout",
     "output_type": "stream",
     "text": [
      "   Annual Income  Company  Model  Price ($)  Body Style_Hardtop  \\\n",
      "0          13500        8     58      26000                 0.0   \n",
      "1        1480000        7     50      19000                 0.0   \n",
      "2        1035000        4     54      31500                 0.0   \n",
      "3          13500       27     35      14000                 0.0   \n",
      "4        1465000        0    138      24500                 0.0   \n",
      "\n",
      "   Body Style_Hatchback  Body Style_Passenger  Body Style_SUV  \\\n",
      "0                   0.0                   0.0             1.0   \n",
      "1                   0.0                   0.0             1.0   \n",
      "2                   0.0                   1.0             0.0   \n",
      "3                   0.0                   0.0             1.0   \n",
      "4                   1.0                   0.0             0.0   \n",
      "\n",
      "   Body Style_Sedan  Dealer_Region_Aurora  ...  Dealer_Region_Middletown  \\\n",
      "0               0.0                   0.0  ...                       1.0   \n",
      "1               0.0                   1.0  ...                       0.0   \n",
      "2               0.0                   0.0  ...                       0.0   \n",
      "3               0.0                   0.0  ...                       0.0   \n",
      "4               0.0                   0.0  ...                       0.0   \n",
      "\n",
      "   Dealer_Region_Pasco  Dealer_Region_Scottsdale  Color_Black  \\\n",
      "0                  0.0                       0.0          1.0   \n",
      "1                  0.0                       0.0          1.0   \n",
      "2                  0.0                       0.0          0.0   \n",
      "3                  1.0                       0.0          0.0   \n",
      "4                  0.0                       0.0          0.0   \n",
      "\n",
      "   Color_Pale White  Color_Red  Transmission_Auto  Transmission_Manual  \\\n",
      "0               0.0        0.0                1.0                  0.0   \n",
      "1               0.0        0.0                1.0                  0.0   \n",
      "2               0.0        1.0                0.0                  1.0   \n",
      "3               1.0        0.0                0.0                  1.0   \n",
      "4               0.0        1.0                1.0                  0.0   \n",
      "\n",
      "   Gender_Female  Gender_Male  \n",
      "0            0.0          1.0  \n",
      "1            0.0          1.0  \n",
      "2            0.0          1.0  \n",
      "3            0.0          1.0  \n",
      "4            0.0          1.0  \n",
      "\n",
      "[5 rows x 23 columns]\n"
     ]
    }
   ],
   "source": [
    "le = LabelEncoder()\n",
    "\n",
    "# Fit and transform the 'Model' column\n",
    "remappeddf['Model'] = le.fit_transform(remappeddf['Model'])\n",
    "remappeddf['Company'] = le.fit_transform(remappeddf['Company'])\n",
    "\n",
    "\n",
    "categorical_columns = ['Body Style', 'Dealer_Region', 'Color', 'Transmission', 'Gender']  # Categorical columns\n",
    "# Keeping only the categorical columns for encoding\n",
    "remappeddf_categorical = remappeddf[categorical_columns]\n",
    "\n",
    "encoder = OneHotEncoder()\n",
    "df_encoded = encoder.fit_transform(remappeddf_categorical).toarray()\n",
    "df_encoded = pd.DataFrame(df_encoded, columns=encoder.get_feature_names_out(categorical_columns))\n",
    "\n",
    "# Combine the encoded DataFrame with the rest of the data and exlude the original categorical columns for redundancy sake\n",
    "df_rest = remappeddf.drop(columns=categorical_columns)\n",
    "df_combined = pd.concat([df_rest, df_encoded], axis=1)\n",
    "\n",
    "# Print preview of the combined DataFrame\n",
    "print(df_combined.head())  "
   ]
  },
  {
   "cell_type": "markdown",
   "metadata": {},
   "source": [
    "Below, you can see the number of rows has decreased from data cleaning and the number of columns has increased due to encoding."
   ]
  },
  {
   "cell_type": "code",
   "execution_count": 19,
   "metadata": {},
   "outputs": [
    {
     "name": "stdout",
     "output_type": "stream",
     "text": [
      "Number of rows: 994\n",
      "Number of columns: 23\n",
      "\n",
      "Remapped DataFrame: \n",
      "\n",
      "        Annual Income  Company    Model  Price ($)  Body Style_Hardtop  \\\n",
      "count        994.000  994.000  994.000    994.000             994.000   \n",
      "mean      855035.327   14.181   75.016  27686.263               0.090   \n",
      "std       706592.169    8.669   43.449  14184.532               0.286   \n",
      "min        13500.000    0.000    0.000   9000.000               0.000   \n",
      "25%       387000.000    7.000   39.250  18000.000               0.000   \n",
      "50%       760000.000   15.000   78.000  22675.000               0.000   \n",
      "75%      1257500.000   20.000  111.000  33000.000               0.000   \n",
      "max      4735000.000   29.000  150.000  85600.000               1.000   \n",
      "\n",
      "       Body Style_Hatchback  Body Style_Passenger  Body Style_SUV  \\\n",
      "count               994.000               994.000         994.000   \n",
      "mean                  0.297                 0.158           0.281   \n",
      "std                   0.457                 0.365           0.450   \n",
      "min                   0.000                 0.000           0.000   \n",
      "25%                   0.000                 0.000           0.000   \n",
      "50%                   0.000                 0.000           0.000   \n",
      "75%                   1.000                 0.000           1.000   \n",
      "max                   1.000                 1.000           1.000   \n",
      "\n",
      "       Body Style_Sedan  Dealer_Region_Aurora  ...  Dealer_Region_Middletown  \\\n",
      "count           994.000               994.000  ...                   994.000   \n",
      "mean              0.175                 0.134  ...                     0.136   \n",
      "std               0.380                 0.341  ...                     0.343   \n",
      "min               0.000                 0.000  ...                     0.000   \n",
      "25%               0.000                 0.000  ...                     0.000   \n",
      "50%               0.000                 0.000  ...                     0.000   \n",
      "75%               0.000                 0.000  ...                     0.000   \n",
      "max               1.000                 1.000  ...                     1.000   \n",
      "\n",
      "       Dealer_Region_Pasco  Dealer_Region_Scottsdale  Color_Black  \\\n",
      "count              994.000                   994.000      994.000   \n",
      "mean                 0.133                     0.145        0.329   \n",
      "std                  0.340                     0.352        0.470   \n",
      "min                  0.000                     0.000        0.000   \n",
      "25%                  0.000                     0.000        0.000   \n",
      "50%                  0.000                     0.000        0.000   \n",
      "75%                  0.000                     0.000        1.000   \n",
      "max                  1.000                     1.000        1.000   \n",
      "\n",
      "       Color_Pale White  Color_Red  Transmission_Auto  Transmission_Manual  \\\n",
      "count           994.000    994.000            994.000              994.000   \n",
      "mean              0.645      0.026              0.515                0.485   \n",
      "std               0.479      0.160              0.500                0.500   \n",
      "min               0.000      0.000              0.000                0.000   \n",
      "25%               0.000      0.000              0.000                0.000   \n",
      "50%               1.000      0.000              1.000                0.000   \n",
      "75%               1.000      0.000              1.000                1.000   \n",
      "max               1.000      1.000              1.000                1.000   \n",
      "\n",
      "       Gender_Female  Gender_Male  \n",
      "count        994.000      994.000  \n",
      "mean           0.243        0.757  \n",
      "std            0.429        0.429  \n",
      "min            0.000        0.000  \n",
      "25%            0.000        1.000  \n",
      "50%            0.000        1.000  \n",
      "75%            0.000        1.000  \n",
      "max            1.000        1.000  \n",
      "\n",
      "[8 rows x 23 columns]\n",
      "\n",
      "Variance values: \n",
      "\n",
      " Annual Income               499272482816.0\n",
      "Company                          75.155495\n",
      "Model                          1887.788208\n",
      "Price ($)                      201200944.0\n",
      "Body Style_Hardtop                0.081602\n",
      "Body Style_Hatchback              0.208912\n",
      "Body Style_Passenger              0.133134\n",
      "Body Style_SUV                    0.202104\n",
      "Body Style_Sedan                  0.144553\n",
      "Dealer_Region_Aurora              0.116016\n",
      "Dealer_Region_Austin              0.136553\n",
      "Dealer_Region_Greenville          0.116753\n",
      "Dealer_Region_Janesville          0.131058\n",
      "Dealer_Region_Middletown          0.117487\n",
      "Dealer_Region_Pasco               0.115278\n",
      "Dealer_Region_Scottsdale          0.124007\n",
      "Color_Black                       0.220972\n",
      "Color_Pale White                  0.229244\n",
      "Color_Red                         0.025498\n",
      "Transmission_Auto                 0.250024\n",
      "Transmission_Manual               0.250024\n",
      "Gender_Female                     0.184373\n",
      "Gender_Male                       0.184373\n",
      "dtype: Float32\n",
      "\n",
      "Skew measurement: \n",
      "\n",
      " Annual Income               0.9872\n",
      "Company                     0.1107\n",
      "Model                      -0.0684\n",
      "Price ($)                   1.4531\n",
      "Body Style_Hardtop          2.8796\n",
      "Body Style_Hatchback        0.8910\n",
      "Body Style_Passenger        1.8787\n",
      "Body Style_SUV              0.9777\n",
      "Body Style_Sedan            1.7128\n",
      "Dealer_Region_Aurora        2.1546\n",
      "Dealer_Region_Austin        1.8277\n",
      "Dealer_Region_Greenville    2.1419\n",
      "Dealer_Region_Janesville    1.9102\n",
      "Dealer_Region_Middletown    2.1293\n",
      "Dealer_Region_Pasco         2.1674\n",
      "Dealer_Region_Scottsdale    2.0210\n",
      "Color_Black                 0.7291\n",
      "Color_Pale White           -0.6064\n",
      "Color_Red                   5.9468\n",
      "Transmission_Auto          -0.0605\n",
      "Transmission_Manual         0.0605\n",
      "Gender_Female               1.1973\n",
      "Gender_Male                -1.1973\n",
      "dtype: float64\n"
     ]
    }
   ],
   "source": [
    "# Get the number of rows and columns\n",
    "num_rows, num_columns = df_combined.shape\n",
    "\n",
    "# Print the number of rows and columns\n",
    "print(f\"Number of rows: {num_rows}\")\n",
    "print(f\"Number of columns: {num_columns}\")\n",
    "\n",
    "# Post processing statistics of the dataset/ dataframe \n",
    "print(\"\\nRemapped DataFrame: \\n\\n\", df_combined.describe().round(3))  # This will give you count, mean, std, min, 25%, 50%, 75%, max\n",
    "print('\\nVariance values: \\n\\n', df_combined.var().astype('Float32'))  # Variance\n",
    "print('\\nSkew measurement: \\n\\n',df_combined.skew().round(4))  # Skewness"
   ]
  },
  {
   "cell_type": "markdown",
   "metadata": {},
   "source": [
    "MinMaxScaler was chosen for Annual Income and Price because the rest of the dataset is so ingrained with binary data, have a normalized range between 0 and 1 for these classes worked well."
   ]
  },
  {
   "cell_type": "code",
   "execution_count": 20,
   "metadata": {},
   "outputs": [
    {
     "name": "stdout",
     "output_type": "stream",
     "text": [
      "0\n"
     ]
    }
   ],
   "source": [
    "na_count = df_combined['Annual Income'].isna().sum()\n",
    "print(na_count)"
   ]
  },
  {
   "cell_type": "code",
   "execution_count": 21,
   "metadata": {},
   "outputs": [
    {
     "name": "stdout",
     "output_type": "stream",
     "text": [
      "   Annual Income  Company  Model  Price ($)  Body Style_Hardtop  \\\n",
      "0       0.000000        8     58   0.221932                 0.0   \n",
      "1       0.310600        7     50   0.130548                 0.0   \n",
      "2       0.216351        4     54   0.293734                 0.0   \n",
      "3       0.000000       27     35   0.065274                 0.0   \n",
      "4       0.307423        0    138   0.202350                 0.0   \n",
      "\n",
      "   Body Style_Hatchback  Body Style_Passenger  Body Style_SUV  \\\n",
      "0                   0.0                   0.0             1.0   \n",
      "1                   0.0                   0.0             1.0   \n",
      "2                   0.0                   1.0             0.0   \n",
      "3                   0.0                   0.0             1.0   \n",
      "4                   1.0                   0.0             0.0   \n",
      "\n",
      "   Body Style_Sedan  Dealer_Region_Aurora  ...  Dealer_Region_Middletown  \\\n",
      "0               0.0                   0.0  ...                       1.0   \n",
      "1               0.0                   1.0  ...                       0.0   \n",
      "2               0.0                   0.0  ...                       0.0   \n",
      "3               0.0                   0.0  ...                       0.0   \n",
      "4               0.0                   0.0  ...                       0.0   \n",
      "\n",
      "   Dealer_Region_Pasco  Dealer_Region_Scottsdale  Color_Black  \\\n",
      "0                  0.0                       0.0          1.0   \n",
      "1                  0.0                       0.0          1.0   \n",
      "2                  0.0                       0.0          0.0   \n",
      "3                  1.0                       0.0          0.0   \n",
      "4                  0.0                       0.0          0.0   \n",
      "\n",
      "   Color_Pale White  Color_Red  Transmission_Auto  Transmission_Manual  \\\n",
      "0               0.0        0.0                1.0                  0.0   \n",
      "1               0.0        0.0                1.0                  0.0   \n",
      "2               0.0        1.0                0.0                  1.0   \n",
      "3               1.0        0.0                0.0                  1.0   \n",
      "4               0.0        1.0                1.0                  0.0   \n",
      "\n",
      "   Gender_Female  Gender_Male  \n",
      "0            0.0          1.0  \n",
      "1            0.0          1.0  \n",
      "2            0.0          1.0  \n",
      "3            0.0          1.0  \n",
      "4            0.0          1.0  \n",
      "\n",
      "[5 rows x 23 columns]\n"
     ]
    }
   ],
   "source": [
    "\n",
    "# Setup the scalar\n",
    "scaler = MinMaxScaler()\n",
    "\n",
    "# Select the columns to be normalized\n",
    "columns_to_normalize = ['Annual Income','Price ($)']  # Replace with your actual column names\n",
    "\n",
    "# Normalize the selected columns\n",
    "df_normalized = df_combined.copy()\n",
    "df_normalized[columns_to_normalize] = scaler.fit_transform(df_normalized[columns_to_normalize])\n",
    "\n",
    "# Print the normalized dataframe\n",
    "print(df_normalized.head())\n"
   ]
  },
  {
   "cell_type": "markdown",
   "metadata": {},
   "source": [
    "Below, the dataset's Gender_Male feature is undersampled so that there is a normal distribution of males & females in the dataset."
   ]
  },
  {
   "cell_type": "code",
   "execution_count": 22,
   "metadata": {},
   "outputs": [
    {
     "name": "stdout",
     "output_type": "stream",
     "text": [
      "Before sampling: \n",
      " Gender_Male\n",
      "1.0    752\n",
      "0.0    242\n",
      "Name: count, dtype: int64\n",
      "\n",
      "After sampling: \n",
      " Gender_Male\n",
      "1.0    242\n",
      "0.0    242\n",
      "Name: count, dtype: int64\n",
      "     Annual Income  Company  Model  Price ($)  Body Style_Hardtop  \\\n",
      "176       0.000000       16    125   0.104439                 0.0   \n",
      "868       0.403791       15    142   0.104439                 0.0   \n",
      "562       0.000000       28     79   0.169713                 0.0   \n",
      "203       0.380493       25     83   0.052219                 0.0   \n",
      "405       0.168696       18     49   0.169713                 0.0   \n",
      "\n",
      "     Body Style_Hatchback  Body Style_Passenger  Body Style_SUV  \\\n",
      "176                   0.0                   1.0             0.0   \n",
      "868                   1.0                   0.0             0.0   \n",
      "562                   0.0                   1.0             0.0   \n",
      "203                   1.0                   0.0             0.0   \n",
      "405                   1.0                   0.0             0.0   \n",
      "\n",
      "     Body Style_Sedan  Dealer_Region_Aurora  ...  Dealer_Region_Middletown  \\\n",
      "176               0.0                   0.0  ...                       0.0   \n",
      "868               0.0                   0.0  ...                       1.0   \n",
      "562               0.0                   0.0  ...                       0.0   \n",
      "203               0.0                   0.0  ...                       0.0   \n",
      "405               0.0                   1.0  ...                       0.0   \n",
      "\n",
      "     Dealer_Region_Pasco  Dealer_Region_Scottsdale  Color_Black  \\\n",
      "176                  0.0                       0.0          0.0   \n",
      "868                  0.0                       0.0          1.0   \n",
      "562                  0.0                       0.0          1.0   \n",
      "203                  0.0                       1.0          0.0   \n",
      "405                  0.0                       0.0          1.0   \n",
      "\n",
      "     Color_Pale White  Color_Red  Transmission_Auto  Transmission_Manual  \\\n",
      "176               1.0        0.0                0.0                  1.0   \n",
      "868               0.0        0.0                0.0                  1.0   \n",
      "562               0.0        0.0                1.0                  0.0   \n",
      "203               1.0        0.0                0.0                  1.0   \n",
      "405               0.0        0.0                0.0                  1.0   \n",
      "\n",
      "     Gender_Female  Gender_Male  \n",
      "176            0.0          1.0  \n",
      "868            0.0          1.0  \n",
      "562            0.0          1.0  \n",
      "203            0.0          1.0  \n",
      "405            0.0          1.0  \n",
      "\n",
      "[5 rows x 23 columns]\n"
     ]
    }
   ],
   "source": [
    "print(\"Before sampling: \\n\", df_normalized.Gender_Male.value_counts())\n",
    "\n",
    "# Separate majority and minority classes\n",
    "df_majority = df_normalized[df_normalized.Gender_Male==1]\n",
    "df_minority = df_normalized[df_normalized.Gender_Male==0]\n",
    "\n",
    "# Downsample majority class\n",
    "df_majority_downsampled = resample(df_majority, \n",
    "                                 replace=False,    # sample without replacement\n",
    "                                 n_samples=len(df_minority),     # to match minority class\n",
    "                                 random_state=123) # reproducible results\n",
    "\n",
    "# Combine minority class with downsampled majority class\n",
    "df_downsampled = pd.concat([df_majority_downsampled, df_minority])\n",
    "\n",
    "# Display new class counts\n",
    "print(\"\\nAfter sampling: \\n\",df_downsampled.Gender_Male.value_counts())\n",
    "print(df_downsampled.head())"
   ]
  },
  {
   "cell_type": "code",
   "execution_count": 23,
   "metadata": {},
   "outputs": [],
   "source": [
    "# Set up the X and y variables\n",
    "features = ['Annual Income','Company', 'Dealer_Region', 'Price ($)']\n",
    "X = data[features]\n",
    "y = data['Gender']  # target variable\n",
    "\n",
    "# Preprocessing: Numeric features scaling and Categorical features encoding\n",
    "numeric_features = ['Annual Income', 'Price ($)']\n",
    "numeric_transformer = StandardScaler()\n",
    "\n",
    "categorical_features = ['Price ($)', 'Dealer_Region']\n",
    "categorical_transformer = OneHotEncoder(handle_unknown='ignore')\n",
    "\n",
    "preprocessor = ColumnTransformer(\n",
    "    transformers=[\n",
    "        ('num', numeric_transformer, numeric_features),\n",
    "        ('cat', categorical_transformer, categorical_features)\n",
    "    ])\n",
    "\n",
    "# Splitting dataset into training and validation sets\n",
    "X_train, X_val, y_train, y_val = train_test_split(X, y, test_size=0.2, random_state=42)\n"
   ]
  },
  {
   "cell_type": "code",
   "execution_count": 24,
   "metadata": {},
   "outputs": [],
   "source": [
    "# Spot Check Algorithms\n",
    "models = {\n",
    "    'Naive Bayes': GaussianNB(),\n",
    "    'SVM': SVC(probability=True),\n",
    "    'Neural Network': MLPClassifier(max_iter=10000)\n",
    "}"
   ]
  },
  {
   "cell_type": "code",
   "execution_count": 25,
   "metadata": {},
   "outputs": [],
   "source": [
    "# Transformer for converting sparse matrices to dense\n",
    "class DenseTransformer(TransformerMixin, BaseEstimator):\n",
    "    def fit(self, X, y=None, **fit_params):\n",
    "        return self\n",
    "\n",
    "    def transform(self, X, y=None, **fit_params):\n",
    "        if scipy.sparse.issparse(X):\n",
    "            return X.toarray()\n",
    "        else:\n",
    "            return X"
   ]
  },
  {
   "cell_type": "code",
   "execution_count": 26,
   "metadata": {},
   "outputs": [
    {
     "name": "stdout",
     "output_type": "stream",
     "text": [
      "Naive Bayes Metrics:\n",
      "Accuracy:\t 0.2964824120603015\n",
      "Precision:\t 0.47067736185383247\n",
      "Recall:\t\t 0.4754770423375074\n",
      "F1-Score:\t 0.2950404858299595\n",
      "AUC:\t\t 0.4552772808586762 \n",
      "\n"
     ]
    },
    {
     "name": "stdout",
     "output_type": "stream",
     "text": [
      "SVM Metrics:\n",
      "Accuracy:\t 0.7738693467336684\n",
      "Precision:\t 0.5173076923076922\n",
      "Recall:\t\t 0.5020125223613595\n",
      "F1-Score:\t 0.45717403164211673\n",
      "AUC:\t\t 0.4461091234347048 \n",
      "\n",
      "Neural Network Metrics:\n",
      "Accuracy:\t 0.6733668341708543\n",
      "Precision:\t 0.529127593066212\n",
      "Recall:\t\t 0.5305605247465712\n",
      "F1-Score:\t 0.5296534671466492\n",
      "AUC:\t\t 0.49962731067382227 \n",
      "\n"
     ]
    }
   ],
   "source": [
    "# Evaluate models\n",
    "for name, model in models.items():\n",
    "    pipeline = Pipeline(steps=[('preprocessor', preprocessor),\n",
    "                               ('to_dense', DenseTransformer()),  # This will convert sparse output to dense\n",
    "                               ('classifier', model)])\n",
    "    pipeline.fit(X_train, y_train)\n",
    "    y_pred = pipeline.predict(X_val)\n",
    "    y_proba = pipeline.predict_proba(X_val)[:, 1]#'[:, 1]' forces array to be 1D\n",
    "\n",
    "    print(f'{name} Metrics:')\n",
    "    print('Accuracy:\\t', accuracy_score(y_val, y_pred))\n",
    "    print('Precision:\\t', precision_score(y_val, y_pred, average='macro', zero_division=1))\n",
    "    print('Recall:\\t\\t', recall_score(y_val, y_pred, average='macro', zero_division=1))\n",
    "    print('F1-Score:\\t', f1_score(y_val, y_pred, average='macro', zero_division=1))\n",
    "    print('AUC:\\t\\t', roc_auc_score(y_val, y_proba, multi_class='ovo', average='macro'), '\\n')"
   ]
  },
  {
   "cell_type": "markdown",
   "metadata": {},
   "source": [
    "**Propose strategies to improve the performance of the selected models through data preprocessing, feature engineering, and hyperparameter tuning.**"
   ]
  },
  {
   "cell_type": "markdown",
   "metadata": {},
   "source": [
    "* *Data Preprocessing*:\n",
    "Verifies all missing values are handled, through imputation or removal. Then Normalize or standardize numerical features to ensure proper equal weighting. Lastly, Encode categorical variables appropriately.\n",
    "* *Feature Engineering*:\n",
    "Creating new features that might be relevant for the prediction, such as extracting information from dates or aggregating categorical variables.\n",
    "* *Hyperparameter Tuning*:\n",
    "Use grid search or random search to find the optimal hyperparameters for each model. This process can be integrated into the pipelines with either \"GridSearchCV\" or \"RandomizedSearchCV\".\n",
    "* *Model Complexity*: \n",
    "For neural networks - experiment with different architectures, adding layers, or changing the activation functions. For SVM - try different kernels. And For Naive Bayes - there's limited scope for tuning, but ensuring feature independence could help."
   ]
  },
  {
   "cell_type": "code",
   "execution_count": 35,
   "metadata": {},
   "outputs": [
    {
     "name": "stdout",
     "output_type": "stream",
     "text": [
      "***Random Forest Ensemble Metrics***\n",
      "Accuracy:\t 0.7185929648241206\n",
      "Precision:\t 0.5249784668389319\n",
      "Recall:\t\t 0.5172927847346452\n",
      "F1-Score:\t 0.5146341463414634\n",
      "AUC:\t\t 0.5372689326177699 \n",
      "\n",
      "\n",
      "***Gradient Boosting Ensemble Metrics***\n",
      "Accuracy:\t 0.7587939698492462\n",
      "Precision:\t 0.5490074441687345\n",
      "Recall:\t\t 0.5176654740608229\n",
      "F1-Score:\t 0.5012531328320802\n",
      "AUC:\t\t 0.5596302921884317 \n",
      "\n",
      "\n",
      "***Voting Classifier Ensemble Metrics***\n",
      "Accuracy:\t 0.7839195979899497\n",
      "Precision:\t 0.8919597989949748\n",
      "Recall:\t\t 0.5\n",
      "F1-Score:\t 0.4394366197183099\n",
      "AUC:\t\t 0.5544871794871794 \n",
      "\n",
      "\n"
     ]
    }
   ],
   "source": [
    "# Ensemble Models with Pipelines\n",
    "ensemble_models = {\n",
    "    'Random Forest': RandomForestClassifier(n_estimators=100),\n",
    "    'Gradient Boosting': GradientBoostingClassifier(n_estimators=100),\n",
    "    'Voting Classifier': VotingClassifier(estimators=[\n",
    "        ('lr', LogisticRegression(max_iter=1000)),\n",
    "        ('rf', RandomForestClassifier(n_estimators=100)),\n",
    "        ('gnb', GaussianNB())], voting='soft')\n",
    "}\n",
    "\n",
    "for name, model in ensemble_models.items():\n",
    "    pipeline = Pipeline(steps=[('preprocessor', preprocessor),\n",
    "                               ('to_dense', DenseTransformer()),  # This will convert sparse output to dense\n",
    "                               ('clustering', KMeans(n_clusters=3)),\n",
    "                               ('classifier', model)])\n",
    "    pipeline.fit(X_train, y_train)\n",
    "    y_pred = pipeline.predict(X_val)\n",
    "    y_proba = pipeline.predict_proba(X_val)[:, 1]#'[:, 1]' forces array to be 1D\n",
    "\n",
    "    print(f'***{name} Ensemble Metrics***')\n",
    "    print('Accuracy:\\t', accuracy_score(y_val, y_pred))\n",
    "    print('Precision:\\t', precision_score(y_val, y_pred, average='macro', zero_division=1))\n",
    "    print('Recall:\\t\\t', recall_score(y_val, y_pred, average='macro', zero_division=1))\n",
    "    print('F1-Score:\\t', f1_score(y_val, y_pred, average='macro', zero_division=1))\n",
    "    print('AUC:\\t\\t', roc_auc_score(y_val, y_proba, multi_class='ovr', average='macro'), '\\n')\n",
    "    print('')"
   ]
  }
 ],
 "metadata": {
  "kernelspec": {
   "display_name": "Python 3",
   "language": "python",
   "name": "python3"
  },
  "language_info": {
   "codemirror_mode": {
    "name": "ipython",
    "version": 3
   },
   "file_extension": ".py",
   "mimetype": "text/x-python",
   "name": "python",
   "nbconvert_exporter": "python",
   "pygments_lexer": "ipython3",
   "version": "3.12.0"
  }
 },
 "nbformat": 4,
 "nbformat_minor": 2
}
