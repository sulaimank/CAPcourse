{
 "cells": [
  {
   "cell_type": "markdown",
   "metadata": {},
   "source": [
    "# Team 1 - CAP5619 Project\n",
    "#### Marco Bogani, Sulaiman Karmali, Daman Sawhney, Ivan Lima\n",
    "\n",
    "## Define the problem:\n",
    "\n",
    "Considering the economic climate from 2022 to today, one of the most apparent changes that took place was car prices and sales. Dealerships continuously face the challenges, of optimizing sales strategies to cater to a multitude of diverse demographics and preferences. Our study aims to leverage our car sales dataset to predict future car sales trends, partition customers based on their purchase behavior, and determine the best pricing strategy for different car models. By applying regression models for sales forecasting, clustering techniques for customer segmentation, and machine learning algorithms for price optimization, this analysis aims to discover patterns and insights that can inform targeted marketing campaigns and efficient inventory management. Thus the overall goal is to enable dealerships to better understand their customers' preferences, better adjust to market climate changes, and ultimately improve both sales performance and customer satisfaction. Moreover, this comprehensive approach will let dealerships gain a competitive edge in the car market by making data-driven decisions that align with customer trends and expectations. "
   ]
  },
  {
   "cell_type": "markdown",
   "metadata": {},
   "source": [
    "## Load Libraries:"
   ]
  },
  {
   "cell_type": "code",
   "execution_count": 23,
   "metadata": {},
   "outputs": [],
   "source": [
    "import pandas as pd\n",
    "import matplotlib.pyplot as plt\n",
    "import seaborn as sns\n",
    "import matplotlib.pyplot as plt\n",
    "import scipy\n",
    "from sklearn.base import TransformerMixin, BaseEstimator\n",
    "from sklearn.model_selection import train_test_split\n",
    "from sklearn.preprocessing import StandardScaler, OneHotEncoder\n",
    "from sklearn.compose import ColumnTransformer\n",
    "from sklearn.pipeline import Pipeline\n",
    "from sklearn.metrics import accuracy_score, precision_score, recall_score, f1_score, roc_auc_score, roc_curve\n",
    "from sklearn.naive_bayes import GaussianNB\n",
    "from sklearn.svm import SVC\n",
    "from sklearn.neural_network import MLPClassifier\n",
    "from sklearn.ensemble import RandomForestClassifier, GradientBoostingClassifier, VotingClassifier\n",
    "from sklearn.linear_model import LogisticRegression\n",
    "from sklearn.metrics import roc_auc_score\n",
    "from sklearn.preprocessing import OneHotEncoder, LabelEncoder, MinMaxScaler"
   ]
  },
  {
   "cell_type": "markdown",
   "metadata": {},
   "source": [
    "## Load Dataset:"
   ]
  },
  {
   "cell_type": "code",
   "execution_count": 29,
   "metadata": {},
   "outputs": [
    {
     "data": {
      "text/html": [
       "<div>\n",
       "<style scoped>\n",
       "    .dataframe tbody tr th:only-of-type {\n",
       "        vertical-align: middle;\n",
       "    }\n",
       "\n",
       "    .dataframe tbody tr th {\n",
       "        vertical-align: top;\n",
       "    }\n",
       "\n",
       "    .dataframe thead th {\n",
       "        text-align: right;\n",
       "    }\n",
       "</style>\n",
       "<table border=\"1\" class=\"dataframe\">\n",
       "  <thead>\n",
       "    <tr style=\"text-align: right;\">\n",
       "      <th></th>\n",
       "      <th>Date</th>\n",
       "      <th>Gender</th>\n",
       "      <th>Annual Income</th>\n",
       "      <th>Company</th>\n",
       "      <th>Model</th>\n",
       "      <th>Transmission</th>\n",
       "      <th>Color</th>\n",
       "      <th>Price ($)</th>\n",
       "      <th>Body Style</th>\n",
       "      <th>Dealer_Region</th>\n",
       "    </tr>\n",
       "  </thead>\n",
       "  <tbody>\n",
       "    <tr>\n",
       "      <th>0</th>\n",
       "      <td>1/2/2022</td>\n",
       "      <td>Male</td>\n",
       "      <td>13500</td>\n",
       "      <td>Ford</td>\n",
       "      <td>Expedition</td>\n",
       "      <td>Auto</td>\n",
       "      <td>Black</td>\n",
       "      <td>26000</td>\n",
       "      <td>SUV</td>\n",
       "      <td>Middletown</td>\n",
       "    </tr>\n",
       "    <tr>\n",
       "      <th>1</th>\n",
       "      <td>1/2/2022</td>\n",
       "      <td>Male</td>\n",
       "      <td>1480000</td>\n",
       "      <td>Dodge</td>\n",
       "      <td>Durango</td>\n",
       "      <td>Auto</td>\n",
       "      <td>Black</td>\n",
       "      <td>19000</td>\n",
       "      <td>SUV</td>\n",
       "      <td>Aurora</td>\n",
       "    </tr>\n",
       "    <tr>\n",
       "      <th>2</th>\n",
       "      <td>1/2/2022</td>\n",
       "      <td>Male</td>\n",
       "      <td>1035000</td>\n",
       "      <td>Cadillac</td>\n",
       "      <td>Eldorado</td>\n",
       "      <td>Manual</td>\n",
       "      <td>Red</td>\n",
       "      <td>31500</td>\n",
       "      <td>Passenger</td>\n",
       "      <td>Greenville</td>\n",
       "    </tr>\n",
       "    <tr>\n",
       "      <th>3</th>\n",
       "      <td>1/2/2022</td>\n",
       "      <td>Male</td>\n",
       "      <td>13500</td>\n",
       "      <td>Toyota</td>\n",
       "      <td>Celica</td>\n",
       "      <td>Manual</td>\n",
       "      <td>Pale White</td>\n",
       "      <td>14000</td>\n",
       "      <td>SUV</td>\n",
       "      <td>Pasco</td>\n",
       "    </tr>\n",
       "    <tr>\n",
       "      <th>4</th>\n",
       "      <td>1/2/2022</td>\n",
       "      <td>Male</td>\n",
       "      <td>1465000</td>\n",
       "      <td>Acura</td>\n",
       "      <td>TL</td>\n",
       "      <td>Auto</td>\n",
       "      <td>Red</td>\n",
       "      <td>24500</td>\n",
       "      <td>Hatchback</td>\n",
       "      <td>Janesville</td>\n",
       "    </tr>\n",
       "  </tbody>\n",
       "</table>\n",
       "</div>"
      ],
      "text/plain": [
       "       Date Gender  Annual Income   Company       Model Transmission  \\\n",
       "0  1/2/2022   Male          13500      Ford  Expedition         Auto   \n",
       "1  1/2/2022   Male        1480000     Dodge     Durango         Auto   \n",
       "2  1/2/2022   Male        1035000  Cadillac    Eldorado       Manual   \n",
       "3  1/2/2022   Male          13500    Toyota      Celica       Manual   \n",
       "4  1/2/2022   Male        1465000     Acura          TL         Auto   \n",
       "\n",
       "        Color  Price ($) Body Style Dealer_Region  \n",
       "0       Black      26000        SUV    Middletown  \n",
       "1       Black      19000        SUV        Aurora  \n",
       "2         Red      31500  Passenger    Greenville  \n",
       "3  Pale White      14000        SUV         Pasco  \n",
       "4         Red      24500  Hatchback    Janesville  "
      ]
     },
     "execution_count": 29,
     "metadata": {},
     "output_type": "execute_result"
    }
   ],
   "source": [
    "# Load the data\n",
    "## Change file path to where you have dataset saved\n",
    "\n",
    "data = pd.read_csv('carSales2.csv') #version '2' is a cut down dataset for faster testing\n",
    "data.columns\n",
    "data = data.drop(columns=['Customer Name','Dealer_Name','Phone','Dealer_No ','Car_id', 'Engine'])\n",
    "data.head(5)"
   ]
  },
  {
   "cell_type": "markdown",
   "metadata": {},
   "source": [
    "## Summarize Data:\n",
    "\n",
    "The dataset being worked with is clean when it comes to NaN and NULL values as shown below."
   ]
  },
  {
   "cell_type": "code",
   "execution_count": 30,
   "metadata": {},
   "outputs": [
    {
     "name": "stdout",
     "output_type": "stream",
     "text": [
      "DataFrame data types: \n",
      " Date             datetime64[ns]\n",
      "Gender                   object\n",
      "Annual Income             int64\n",
      "Company                  object\n",
      "Model                    object\n",
      "Transmission             object\n",
      "Color                    object\n",
      "Price ($)                 int64\n",
      "Body Style               object\n",
      "Dealer_Region            object\n",
      "dtype: object\n",
      "NA data counts: \n",
      " Date             0\n",
      "Gender           0\n",
      "Annual Income    0\n",
      "Company          0\n",
      "Model            0\n",
      "Transmission     0\n",
      "Color            0\n",
      "Price ($)        0\n",
      "Body Style       0\n",
      "Dealer_Region    0\n",
      "dtype: int64\n",
      "\n",
      "NULL data counts: \n",
      " Date             0\n",
      "Gender           0\n",
      "Annual Income    0\n",
      "Company          0\n",
      "Model            0\n",
      "Transmission     0\n",
      "Color            0\n",
      "Price ($)        0\n",
      "Body Style       0\n",
      "Dealer_Region    0\n",
      "dtype: int64\n"
     ]
    }
   ],
   "source": [
    "# Convert the Date column to datetime\n",
    "data['Date'] = pd.to_datetime(data['Date'])\n",
    "\n",
    "# check for na or Null values\n",
    "isnacount = data.isna().sum()\n",
    "isnullcount = data.isnull().sum()\n",
    "\n",
    "# print results\n",
    "print(\"DataFrame data types: \\n\", data.dtypes)\n",
    "print(\"NA data counts: \\n\", isnacount)\n",
    "print(\"\\nNULL data counts: \\n\", isnullcount)"
   ]
  },
  {
   "cell_type": "markdown",
   "metadata": {},
   "source": [
    "This shape can help understand the complexity of the dataset. It is important to remember the number of columns here as they will change when encoding occurs."
   ]
  },
  {
   "cell_type": "code",
   "execution_count": 31,
   "metadata": {},
   "outputs": [
    {
     "name": "stdout",
     "output_type": "stream",
     "text": [
      "Number of rows: 3999\n",
      "Number of columns: 10\n"
     ]
    }
   ],
   "source": [
    "# Get the number of rows and columns\n",
    "num_rows, num_columns = data.shape\n",
    "\n",
    "# Print the number of rows and columns\n",
    "print(f\"Number of rows: {num_rows}\")\n",
    "print(f\"Number of columns: {num_columns}\")"
   ]
  },
  {
   "cell_type": "markdown",
   "metadata": {},
   "source": [
    "Below, column info can be gathered. This is to better understand what data we are working with. This will also prepare us for feature selection.+"
   ]
  },
  {
   "cell_type": "code",
   "execution_count": 32,
   "metadata": {},
   "outputs": [
    {
     "name": "stdout",
     "output_type": "stream",
     "text": [
      "Body Style: ['SUV', 'Passenger', 'Hatchback', 'Hardtop', 'Sedan']\n",
      "Model: ['Expedition', 'Durango', 'Eldorado', 'Celica', 'TL', 'Diamante', 'Corolla', 'Galant', 'Malibu', 'Escort', 'RL', 'Pathfinder', 'Grand Marquis', '323i', 'Sebring Coupe', 'Forester', 'Accent', 'Land Cruiser', 'Accord', '4Runner', 'I30', 'A4', 'Carrera Cabrio', 'Jetta', 'Viper', 'Regal', 'LHS', 'LW', '3000GT', 'SLK230', 'Civic', 'S-Type', 'S40', 'Mountaineer', 'Park Avenue', 'Montero Sport', 'Sentra', 'S80', 'Lumina', 'Bonneville', 'C-Class', 'Altima', 'DeVille', 'Stratus', 'Cougar', 'SW', 'C70', 'SLK', 'Tacoma', 'M-Class', 'A6', 'Intrepid', 'Sienna', 'Eclipse', 'Contour', 'Town car', 'Focus', 'Mustang', 'Cutlass', 'Corvette', 'Impala', 'Cabrio', 'Dakota', '300M', '328i', 'Bravada', 'Maxima', 'Ram Pickup', 'Concorde', 'V70', 'Quest', 'ES300', 'SL-Class', 'Explorer', 'Prizm', 'Camaro', 'Outback', 'Taurus', 'Cavalier', 'GS400', 'Monte Carlo', 'Sonata', 'Sable', 'Metro', 'Voyager', 'Cirrus', 'Avenger', 'Odyssey', 'Intrigue', 'Silhouette', '5-Sep', '528i', 'LS400', 'Aurora', 'Breeze', 'Beetle', 'Elantra', 'Continental', 'RAV4', 'Villager', 'S70', 'LS', 'Ram Van', 'S-Class', 'E-Class', 'Grand Am', 'SC', 'Passat', 'Xterra', 'Frontier', 'Crown Victoria', 'Camry', 'Navigator', 'CL500', 'Escalade', 'Golf', 'Ranger', 'Prowler', 'Windstar', 'GTI', 'Passport', 'Boxter', 'LX470', 'CR-V', 'Sunfire', 'Caravan', 'Ram Wagon', 'Neon', 'Wrangler', 'Integra', 'Grand Prix', 'Grand Cherokee', 'F-Series', 'A8', 'Mystique', '3-Sep', 'Cherokee', 'Carrera Coupe', 'Catera', 'Seville', 'CLK Coupe', 'LeSabre', 'Sebring Conv.', 'GS300', 'Firebird', 'V40', 'Montero', 'Town & Country', 'SL', 'Alero', 'Mirage', 'Century', 'RX300']\n",
      "Company: ['Ford', 'Dodge', 'Cadillac', 'Toyota', 'Acura', 'Mitsubishi', 'Chevrolet', 'Nissan', 'Mercury', 'BMW', 'Chrysler', 'Subaru', 'Hyundai', 'Honda', 'Infiniti', 'Audi', 'Porsche', 'Volkswagen', 'Buick', 'Saturn', 'Mercedes-B', 'Jaguar', 'Volvo', 'Pontiac', 'Lincoln', 'Oldsmobile', 'Lexus', 'Plymouth', 'Saab', 'Jeep']\n",
      "Color: ['Black', 'Red', 'Pale White']\n"
     ]
    }
   ],
   "source": [
    "# Setup column name variable and empty dictionary\n",
    "columns = ['Body Style','Model', 'Company', 'Color'] \n",
    "unique_values_dict = {}\n",
    "\n",
    "for column in columns:\n",
    "    unique_values_dict[column] = data[column].unique().tolist()\n",
    "\n",
    "# Print the unique values for each column\n",
    "for column, unique_values in unique_values_dict.items():\n",
    "    print(f\"{column}: {unique_values}\")"
   ]
  },
  {
   "cell_type": "markdown",
   "metadata": {},
   "source": [
    "Above, it can be seen that the Engine column has a corrupted character and that there are no similar features like 'light blue' or 'dark blue.'"
   ]
  },
  {
   "cell_type": "code",
   "execution_count": 33,
   "metadata": {},
   "outputs": [],
   "source": [
    "# Change just the engine column to correct typo\n",
    "data['Model'] = data['Model'].replace('Eldorado', 'El Dorado')\n"
   ]
  },
  {
   "cell_type": "markdown",
   "metadata": {},
   "source": [
    "Below is a complete verification of columns and their unique value syntax validation."
   ]
  },
  {
   "cell_type": "code",
   "execution_count": 34,
   "metadata": {},
   "outputs": [
    {
     "name": "stdout",
     "output_type": "stream",
     "text": [
      "Body Style: ['SUV', 'Passenger', 'Hatchback', 'Hardtop', 'Sedan']\n",
      "Color: ['Black', 'Red', 'Pale White']\n",
      "Transmission: ['Auto', 'Manual']\n",
      "Gender: ['Male', 'Female']\n",
      "Price ($): [26000, 19000, 31500, 14000, 24500, 12000, 42000, 82000, 15000, 31000, 46000, 9000, 17000, 18000, 33000, 21000, 25000, 22000, 31250, 41000, 13000, 20000, 43000, 16000, 61000, 39000, 42500, 45001, 36001, 21001, 29000, 27000, 25600, 36000, 31100, 22600, 45000, 62000, 22700, 49000, 28000, 22001, 25001, 12800, 22500, 46500, 54000, 16001, 38000, 21200, 71000, 57001, 62001, 69001, 20001, 26750, 24000, 28501, 15500, 12500, 27250, 11000, 26500, 69000, 14150, 60500, 44000, 11650, 11800, 27500, 16900, 14200, 51000, 32000, 39500, 13500, 9250, 29500, 18501, 17001, 23500, 53000, 60750, 24001, 35000, 18500, 21500, 41100, 20200, 59000, 57000, 25500, 19100, 10000, 23000, 11501, 24250, 37000, 54500, 25100, 34000, 21900, 29200, 85000, 43500, 14500, 16500, 85600, 75000, 71500, 61500, 19500, 29001, 60000, 28001, 60001, 22100, 21100, 31001, 36600, 53500, 49300, 17500, 26001, 23501, 9200, 22650, 57500, 39600, 28100, 9500, 16700, 69500, 18001, 45500, 15601, 16800, 22200, 39501, 19001, 20500, 14100, 12001, 34300, 51200, 32500, 49500, 20600, 33500, 49001, 39001, 85001, 26501, 18100, 62500, 15510, 14001, 27501, 16251, 26251, 10500, 29300, 22250, 19020, 15001, 18250, 12300, 41500, 42200, 51850, 82500, 15100, 45200, 44001, 20700, 28500, 51500, 28800, 53001, 75500, 17250, 12700, 27200, 22150, 15400, 19750, 19200, 13050, 36200, 69100, 38500, 16100, 29600, 24100, 18180, 31800, 42700, 14600, 26700, 41001, 27001, 24200, 36500, 23001, 11100, 71200, 28200, 19300, 9600, 26100, 22300, 42100, 46801, 10100, 21501, 33800, 12600, 9001, 33001, 31600, 49750, 27300, 42001, 34500, 14900, 43200, 22601, 33200, 11500, 18200, 31700, 38001, 15600, 31900, 43001, 35001, 51001, 16501, 51501, 34001, 71501, 17201, 25800, 62600, 22101, 27201, 75001, 54001, 36700, 15880, 20100, 22800, 25200, 20250, 42801, 71001, 21701, 19700, 13001, 24501, 46600, 14800, 71700, 9800, 19250, 12250, 61001, 41501, 24101, 41251, 75501, 10001, 46001, 19400, 21700, 29080, 44500, 32001, 41400, 75600, 46100, 45800, 14501, 10700, 13501, 85301, 17350, 13750, 43300, 24751, 12200, 18101, 18800, 26200, 45100, 69800, 20150, 22501, 11001, 36501, 43800, 69980, 82001, 19800, 62200, 19501, 29100, 9700, 36350, 41200, 23700, 17801, 13801, 29400, 20300, 19600, 17800, 17700, 31201, 21600, 29800, 12501, 31501, 19050, 21801, 38281, 18601, 33501, 57600, 49101, 71950, 25400, 31301, 51100, 17501, 71210, 42800, 82101, 16250, 23250, 41250, 26600, 17600, 44750, 24900, 25251, 69600]\n",
      "Model: ['Expedition', 'Durango', 'El Dorado', 'Celica', 'TL', 'Diamante', 'Corolla', 'Galant', 'Malibu', 'Escort', 'RL', 'Pathfinder', 'Grand Marquis', '323i', 'Sebring Coupe', 'Forester', 'Accent', 'Land Cruiser', 'Accord', '4Runner', 'I30', 'A4', 'Carrera Cabrio', 'Jetta', 'Viper', 'Regal', 'LHS', 'LW', '3000GT', 'SLK230', 'Civic', 'S-Type', 'S40', 'Mountaineer', 'Park Avenue', 'Montero Sport', 'Sentra', 'S80', 'Lumina', 'Bonneville', 'C-Class', 'Altima', 'DeVille', 'Stratus', 'Cougar', 'SW', 'C70', 'SLK', 'Tacoma', 'M-Class', 'A6', 'Intrepid', 'Sienna', 'Eclipse', 'Contour', 'Town car', 'Focus', 'Mustang', 'Cutlass', 'Corvette', 'Impala', 'Cabrio', 'Dakota', '300M', '328i', 'Bravada', 'Maxima', 'Ram Pickup', 'Concorde', 'V70', 'Quest', 'ES300', 'SL-Class', 'Explorer', 'Prizm', 'Camaro', 'Outback', 'Taurus', 'Cavalier', 'GS400', 'Monte Carlo', 'Sonata', 'Sable', 'Metro', 'Voyager', 'Cirrus', 'Avenger', 'Odyssey', 'Intrigue', 'Silhouette', '5-Sep', '528i', 'LS400', 'Aurora', 'Breeze', 'Beetle', 'Elantra', 'Continental', 'RAV4', 'Villager', 'S70', 'LS', 'Ram Van', 'S-Class', 'E-Class', 'Grand Am', 'SC', 'Passat', 'Xterra', 'Frontier', 'Crown Victoria', 'Camry', 'Navigator', 'CL500', 'Escalade', 'Golf', 'Ranger', 'Prowler', 'Windstar', 'GTI', 'Passport', 'Boxter', 'LX470', 'CR-V', 'Sunfire', 'Caravan', 'Ram Wagon', 'Neon', 'Wrangler', 'Integra', 'Grand Prix', 'Grand Cherokee', 'F-Series', 'A8', 'Mystique', '3-Sep', 'Cherokee', 'Carrera Coupe', 'Catera', 'Seville', 'CLK Coupe', 'LeSabre', 'Sebring Conv.', 'GS300', 'Firebird', 'V40', 'Montero', 'Town & Country', 'SL', 'Alero', 'Mirage', 'Century', 'RX300']\n"
     ]
    }
   ],
   "source": [
    "# Setup column name variable and empty dictionary\n",
    "columns = ['Body Style','Color','Transmission','Gender','Price ($)','Model']  # replace with your actual column names\n",
    "unique_values_dict = {}\n",
    "\n",
    "for column in columns:\n",
    "    unique_values_dict[column] = data[column].unique().tolist()\n",
    "\n",
    "# Print the unique values for each column\n",
    "for column, unique_values in unique_values_dict.items():\n",
    "    print(f\"{column}: {unique_values}\")"
   ]
  },
  {
   "cell_type": "markdown",
   "metadata": {},
   "source": [
    "## Descriptive Statistics & Data Visualizations:\n",
    "\n",
    "At this point, only Annual Income and Price are the numerical columns in the dataframe. We can see their quartiles, minimum and maximum values, etc."
   ]
  },
  {
   "cell_type": "code",
   "execution_count": 35,
   "metadata": {},
   "outputs": [
    {
     "data": {
      "text/html": [
       "<div>\n",
       "<style scoped>\n",
       "    .dataframe tbody tr th:only-of-type {\n",
       "        vertical-align: middle;\n",
       "    }\n",
       "\n",
       "    .dataframe tbody tr th {\n",
       "        vertical-align: top;\n",
       "    }\n",
       "\n",
       "    .dataframe thead th {\n",
       "        text-align: right;\n",
       "    }\n",
       "</style>\n",
       "<table border=\"1\" class=\"dataframe\">\n",
       "  <thead>\n",
       "    <tr style=\"text-align: right;\">\n",
       "      <th></th>\n",
       "      <th>Date</th>\n",
       "      <th>Annual Income</th>\n",
       "      <th>Price ($)</th>\n",
       "    </tr>\n",
       "  </thead>\n",
       "  <tbody>\n",
       "    <tr>\n",
       "      <th>count</th>\n",
       "      <td>3999</td>\n",
       "      <td>3999.00</td>\n",
       "      <td>3999.00</td>\n",
       "    </tr>\n",
       "    <tr>\n",
       "      <th>mean</th>\n",
       "      <td>2022-04-23 09:38:18.274568448</td>\n",
       "      <td>863130.29</td>\n",
       "      <td>27990.50</td>\n",
       "    </tr>\n",
       "    <tr>\n",
       "      <th>min</th>\n",
       "      <td>2022-01-02 00:00:00</td>\n",
       "      <td>13500.00</td>\n",
       "      <td>9000.00</td>\n",
       "    </tr>\n",
       "    <tr>\n",
       "      <th>25%</th>\n",
       "      <td>2022-03-19 00:00:00</td>\n",
       "      <td>392000.00</td>\n",
       "      <td>18000.00</td>\n",
       "    </tr>\n",
       "    <tr>\n",
       "      <th>50%</th>\n",
       "      <td>2022-04-26 00:00:00</td>\n",
       "      <td>750000.00</td>\n",
       "      <td>22501.00</td>\n",
       "    </tr>\n",
       "    <tr>\n",
       "      <th>75%</th>\n",
       "      <td>2022-06-08 00:00:00</td>\n",
       "      <td>1225000.00</td>\n",
       "      <td>34000.00</td>\n",
       "    </tr>\n",
       "    <tr>\n",
       "      <th>max</th>\n",
       "      <td>2022-07-16 00:00:00</td>\n",
       "      <td>5800000.00</td>\n",
       "      <td>85600.00</td>\n",
       "    </tr>\n",
       "    <tr>\n",
       "      <th>std</th>\n",
       "      <td>NaN</td>\n",
       "      <td>749661.30</td>\n",
       "      <td>14664.73</td>\n",
       "    </tr>\n",
       "  </tbody>\n",
       "</table>\n",
       "</div>"
      ],
      "text/plain": [
       "                                Date  Annual Income  Price ($)\n",
       "count                           3999        3999.00    3999.00\n",
       "mean   2022-04-23 09:38:18.274568448      863130.29   27990.50\n",
       "min              2022-01-02 00:00:00       13500.00    9000.00\n",
       "25%              2022-03-19 00:00:00      392000.00   18000.00\n",
       "50%              2022-04-26 00:00:00      750000.00   22501.00\n",
       "75%              2022-06-08 00:00:00     1225000.00   34000.00\n",
       "max              2022-07-16 00:00:00     5800000.00   85600.00\n",
       "std                              NaN      749661.30   14664.73"
      ]
     },
     "execution_count": 35,
     "metadata": {},
     "output_type": "execute_result"
    }
   ],
   "source": [
    "dfdesc = data.describe()\n",
    "dfdesc.round(2)"
   ]
  },
  {
   "cell_type": "markdown",
   "metadata": {},
   "source": [
    "To better understand underlying correlations which will help us better build the prediction model, we must remove outlier data. In the visualizations below, you can see how removing outliers makes the data more legible and the smaller differences in class trends can be observed."
   ]
  },
  {
   "cell_type": "code",
   "execution_count": 36,
   "metadata": {},
   "outputs": [
    {
     "data": {
      "image/png": "[encoded data removed]",
      "text/plain": [
       "<Figure size 1200x600 with 1 Axes>"
      ]
     },
     "metadata": {},
     "output_type": "display_data"
    }
   ],
   "source": [
    "# Visualize with basic dataframe without any preprocessing\n",
    "plt.figure(figsize=(12, 6))\n",
    "sns.violinplot(x='Body Style', y='Annual Income', data=data)\n",
    "plt.title('Annual Income Distribution across Body Styles')\n",
    "plt.xlabel('Body Style')\n",
    "plt.ylabel('Annual Income')\n",
    "plt.show()"
   ]
  },
  {
   "cell_type": "markdown",
   "metadata": {},
   "source": [
    "Only Annual Income was refined for outliers as that data is primary value that can be uncorrelated to the price of a purchased vehice."
   ]
  },
  {
   "cell_type": "code",
   "execution_count": 20,
   "metadata": {},
   "outputs": [
    {
     "name": "stdout",
     "output_type": "stream",
     "text": [
      "Annual Income class outliers:\n",
      " 21     2500000\n",
      "48     4060000\n",
      "89     2550000\n",
      "122    3000000\n",
      "125    2800000\n",
      "Name: Annual Income, dtype: int64\n",
      "Outliers were not removed correctly.\n"
     ]
    }
   ],
   "source": [
    "# Calculate the Inter Quartile Range for Annual Income\n",
    "Q1 = data['Annual Income'].quantile(0.25)\n",
    "Q3 = data['Annual Income'].quantile(0.75)\n",
    "IQR = Q3 - Q1\n",
    "\n",
    "# Define the cutoff for outliers\n",
    "cutoff = IQR * 1.5\n",
    "\n",
    "# Determine the bounds for the outliers\n",
    "lower_bound = Q1 - cutoff\n",
    "upper_bound = Q3 + cutoff\n",
    "\n",
    "df_outliers = data[(data['Annual Income'] < lower_bound) | (data['Annual Income'] > upper_bound)]\n",
    "\n",
    "# Print the outliers\n",
    "print(\"Annual Income class outliers:\\n\", df_outliers['Annual Income'].head(5))\n",
    "\n",
    "# Filter the dataframe to remove outliers from 'Annual Income'\n",
    "df = data[(data['Annual Income'] >= lower_bound) & (data['Annual Income'] <= upper_bound)]\n",
    "\n",
    "# Check if any values in the filtered DataFrame fall outside the bounds\n",
    "outliers_present = any((data['Annual Income'] < lower_bound) | (data['Annual Income'] > upper_bound))\n",
    "\n",
    "# Print result and confirm process complete.\n",
    "if outliers_present:\n",
    "    print(\"Outliers were not removed correctly.\")\n",
    "else:\n",
    "    print(\"Outliers were removed correctly.\")"
   ]
  },
  {
   "cell_type": "code",
   "execution_count": 21,
   "metadata": {},
   "outputs": [
    {
     "data": {
      "image/png": "[encoded data removed]",
      "text/plain": [
       "<Figure size 1200x600 with 1 Axes>"
      ]
     },
     "metadata": {},
     "output_type": "display_data"
    }
   ],
   "source": [
    "# Now visualized the data without outliers\n",
    "plt.figure(figsize=(12, 6))\n",
    "sns.violinplot(x='Body Style', y='Annual Income', data=data)\n",
    "plt.title('Annual Income Distribution across Body Styles (Outliers Removed)')\n",
    "plt.xlabel('Body Style')\n",
    "plt.ylabel('Annual Income')\n",
    "plt.show()"
   ]
  },
  {
   "cell_type": "markdown",
   "metadata": {},
   "source": [
    "In this particular context, since the pinching occurs at a similar income level across all body styles, it could indicate a common income value around which fewer people purchase cars, regardless of the body style. This might suggest a market segment that is underserved or has fewer customers."
   ]
  },
  {
   "cell_type": "markdown",
   "metadata": {},
   "source": [
    "## Clean & Prepare Data:"
   ]
  },
  {
   "cell_type": "markdown",
   "metadata": {},
   "source": [
    "Since the dataset ranges over 2 years, the significant trends in an established industry are not intense. As such, it is decided removing date from the data would not have a meaningful impact to the model's performance.\n",
    "\n",
    "Model was the only class with many features and was label encoded instead to keep our dataset from getting too large."
   ]
  },
  {
   "cell_type": "code",
   "execution_count": 24,
   "metadata": {},
   "outputs": [
    {
     "name": "stdout",
     "output_type": "stream",
     "text": [
      "  Gender  Annual Income   Company  Model Transmission       Color  Price ($)  \\\n",
      "0   Male          13500      Ford     59         Auto       Black      26000   \n",
      "1   Male        1480000     Dodge     51         Auto       Black      19000   \n",
      "2   Male        1035000  Cadillac     55       Manual         Red      31500   \n",
      "3   Male          13500    Toyota     35       Manual  Pale White      14000   \n",
      "4   Male        1465000     Acura    140         Auto         Red      24500   \n",
      "\n",
      "  Body Style Dealer_Region  \n",
      "0        SUV    Middletown  \n",
      "1        SUV        Aurora  \n",
      "2  Passenger    Greenville  \n",
      "3        SUV         Pasco  \n",
      "4  Hatchback    Janesville  \n"
     ]
    }
   ],
   "source": [
    "remappeddf = data.copy()\n",
    "remappeddf.drop(columns=['Date'], inplace=True)\n",
    "\n",
    "# Setup the label encoder\n",
    "le = LabelEncoder()\n",
    "\n",
    "# Fit and transform the 'Model' column\n",
    "remappeddf['Model'] = le.fit_transform(remappeddf['Model'])\n",
    "\n",
    "print(remappeddf.head(5))"
   ]
  },
  {
   "cell_type": "markdown",
   "metadata": {},
   "source": [
    "## Feature Selection and Data Transformations"
   ]
  },
  {
   "cell_type": "markdown",
   "metadata": {},
   "source": [
    "Features above have a few classes except Price and model. One Hot encoding will be good for the features which are not Price and Model. For the Model class, a label encoder is used due to the large amount of models. MixMax scaling was applied to Annual income and Price ($) data to make it more normalized."
   ]
  },
  {
   "cell_type": "code",
   "execution_count": 25,
   "metadata": {},
   "outputs": [
    {
     "name": "stdout",
     "output_type": "stream",
     "text": [
      "   Annual Income   Company  Model  Price ($)  Body Style_Hardtop  \\\n",
      "0          13500      Ford     59      26000                 0.0   \n",
      "1        1480000     Dodge     51      19000                 0.0   \n",
      "2        1035000  Cadillac     55      31500                 0.0   \n",
      "3          13500    Toyota     35      14000                 0.0   \n",
      "4        1465000     Acura    140      24500                 0.0   \n",
      "\n",
      "   Body Style_Hatchback  Body Style_Passenger  Body Style_SUV  \\\n",
      "0                   0.0                   0.0             1.0   \n",
      "1                   0.0                   0.0             1.0   \n",
      "2                   0.0                   1.0             0.0   \n",
      "3                   0.0                   0.0             1.0   \n",
      "4                   1.0                   0.0             0.0   \n",
      "\n",
      "   Body Style_Sedan  Dealer_Region_Aurora  ...  Dealer_Region_Middletown  \\\n",
      "0               0.0                   0.0  ...                       1.0   \n",
      "1               0.0                   1.0  ...                       0.0   \n",
      "2               0.0                   0.0  ...                       0.0   \n",
      "3               0.0                   0.0  ...                       0.0   \n",
      "4               0.0                   0.0  ...                       0.0   \n",
      "\n",
      "   Dealer_Region_Pasco  Dealer_Region_Scottsdale  Color_Black  \\\n",
      "0                  0.0                       0.0          1.0   \n",
      "1                  0.0                       0.0          1.0   \n",
      "2                  0.0                       0.0          0.0   \n",
      "3                  1.0                       0.0          0.0   \n",
      "4                  0.0                       0.0          0.0   \n",
      "\n",
      "   Color_Pale White  Color_Red  Transmission_Auto  Transmission_Manual  \\\n",
      "0               0.0        0.0                1.0                  0.0   \n",
      "1               0.0        0.0                1.0                  0.0   \n",
      "2               0.0        1.0                0.0                  1.0   \n",
      "3               1.0        0.0                0.0                  1.0   \n",
      "4               0.0        1.0                1.0                  0.0   \n",
      "\n",
      "   Gender_Female  Gender_Male  \n",
      "0            0.0          1.0  \n",
      "1            0.0          1.0  \n",
      "2            0.0          1.0  \n",
      "3            0.0          1.0  \n",
      "4            0.0          1.0  \n",
      "\n",
      "[5 rows x 23 columns]\n"
     ]
    }
   ],
   "source": [
    "le = LabelEncoder()\n",
    "\n",
    "# Fit and transform the 'Model' column\n",
    "remappeddf['Model'] = le.fit_transform(remappeddf['Model'])\n",
    "\n",
    "\n",
    "categorical_columns = ['Body Style', 'Dealer_Region', 'Color', 'Transmission', 'Gender']  # Categorical columns\n",
    "# Keeping only the categorical columns for encoding\n",
    "remappeddf_categorical = remappeddf[categorical_columns]\n",
    "\n",
    "encoder = OneHotEncoder()\n",
    "df_encoded = encoder.fit_transform(remappeddf_categorical).toarray()\n",
    "df_encoded = pd.DataFrame(df_encoded, columns=encoder.get_feature_names_out(categorical_columns))\n",
    "\n",
    "# Combine the encoded DataFrame with the rest of the data and exlude the original categorical columns for redundancy sake\n",
    "df_rest = remappeddf.drop(columns=categorical_columns)\n",
    "df_combined = pd.concat([df_rest, df_encoded], axis=1)\n",
    "\n",
    "# Print preview of the combined DataFrame\n",
    "print(df_combined.head())  "
   ]
  },
  {
   "cell_type": "markdown",
   "metadata": {},
   "source": [
    "Below, you can see the number of rows has decreased from data cleaning and the number of columns has increased due to encoding."
   ]
  },
  {
   "cell_type": "code",
   "execution_count": 37,
   "metadata": {},
   "outputs": [
    {
     "name": "stdout",
     "output_type": "stream",
     "text": [
      "Number of rows: 3999\n",
      "Number of columns: 23\n",
      "\n",
      "Remapped DataFrame: \n",
      "\n",
      "        Annual Income     Model  Price ($)  Body Style_Hardtop  \\\n",
      "count       3999.000  3999.000   3999.000            3999.000   \n",
      "mean      863130.292    76.023  27990.503               0.079   \n",
      "std       749661.299    43.803  14664.731               0.269   \n",
      "min        13500.000     0.000   9000.000               0.000   \n",
      "25%       392000.000    40.000  18000.000               0.000   \n",
      "50%       750000.000    79.000  22501.000               0.000   \n",
      "75%      1225000.000   112.000  34000.000               0.000   \n",
      "max      5800000.000   152.000  85600.000               1.000   \n",
      "\n",
      "       Body Style_Hatchback  Body Style_Passenger  Body Style_SUV  \\\n",
      "count              3999.000              3999.000        3999.000   \n",
      "mean                  0.301                 0.157           0.273   \n",
      "std                   0.459                 0.364           0.446   \n",
      "min                   0.000                 0.000           0.000   \n",
      "25%                   0.000                 0.000           0.000   \n",
      "50%                   0.000                 0.000           0.000   \n",
      "75%                   1.000                 0.000           1.000   \n",
      "max                   1.000                 1.000           1.000   \n",
      "\n",
      "       Body Style_Sedan  Dealer_Region_Aurora  Dealer_Region_Austin  ...  \\\n",
      "count          3999.000              3999.000              3999.000  ...   \n",
      "mean              0.191                 0.129                 0.175  ...   \n",
      "std               0.393                 0.335                 0.380  ...   \n",
      "min               0.000                 0.000                 0.000  ...   \n",
      "25%               0.000                 0.000                 0.000  ...   \n",
      "50%               0.000                 0.000                 0.000  ...   \n",
      "75%               0.000                 0.000                 0.000  ...   \n",
      "max               1.000                 1.000                 1.000  ...   \n",
      "\n",
      "       Dealer_Region_Middletown  Dealer_Region_Pasco  \\\n",
      "count                  3999.000             3999.000   \n",
      "mean                      0.133                0.130   \n",
      "std                       0.339                0.336   \n",
      "min                       0.000                0.000   \n",
      "25%                       0.000                0.000   \n",
      "50%                       0.000                0.000   \n",
      "75%                       0.000                0.000   \n",
      "max                       1.000                1.000   \n",
      "\n",
      "       Dealer_Region_Scottsdale  Color_Black  Color_Pale White  Color_Red  \\\n",
      "count                  3999.000     3999.000          3999.000   3999.000   \n",
      "mean                      0.145        0.320             0.425      0.254   \n",
      "std                       0.352        0.467             0.494      0.436   \n",
      "min                       0.000        0.000             0.000      0.000   \n",
      "25%                       0.000        0.000             0.000      0.000   \n",
      "50%                       0.000        0.000             0.000      0.000   \n",
      "75%                       0.000        1.000             1.000      1.000   \n",
      "max                       1.000        1.000             1.000      1.000   \n",
      "\n",
      "       Transmission_Auto  Transmission_Manual  Gender_Female  Gender_Male  \n",
      "count           3999.000             3999.000       3999.000     3999.000  \n",
      "mean               0.525                0.475          0.230        0.770  \n",
      "std                0.499                0.499          0.421        0.421  \n",
      "min                0.000                0.000          0.000        0.000  \n",
      "25%                0.000                0.000          0.000        1.000  \n",
      "50%                1.000                0.000          0.000        1.000  \n",
      "75%                1.000                1.000          0.000        1.000  \n",
      "max                1.000                1.000          1.000        1.000  \n",
      "\n",
      "[8 rows x 22 columns]\n"
     ]
    },
    {
     "ename": "TypeError",
     "evalue": "could not convert string to float: 'Ford'",
     "output_type": "error",
     "traceback": [
      "\u001b[1;31m---------------------------------------------------------------------------\u001b[0m",
      "\u001b[1;31mValueError\u001b[0m                                Traceback (most recent call last)",
      "File \u001b[1;32mc:\\Users\\warup\\AppData\\Local\\Programs\\Python\\Python39\\lib\\site-packages\\pandas\\core\\nanops.py:85\u001b[0m, in \u001b[0;36mdisallow.__call__.<locals>._f\u001b[1;34m(*args, **kwargs)\u001b[0m\n\u001b[0;32m     84\u001b[0m \u001b[38;5;28;01mtry\u001b[39;00m:\n\u001b[1;32m---> 85\u001b[0m     \u001b[38;5;28;01mreturn\u001b[39;00m f(\u001b[38;5;241m*\u001b[39margs, \u001b[38;5;241m*\u001b[39m\u001b[38;5;241m*\u001b[39mkwargs)\n\u001b[0;32m     86\u001b[0m \u001b[38;5;28;01mexcept\u001b[39;00m \u001b[38;5;167;01mValueError\u001b[39;00m \u001b[38;5;28;01mas\u001b[39;00m e:\n\u001b[0;32m     87\u001b[0m     \u001b[38;5;66;03m# we want to transform an object array\u001b[39;00m\n\u001b[0;32m     88\u001b[0m     \u001b[38;5;66;03m# ValueError message to the more typical TypeError\u001b[39;00m\n\u001b[0;32m     89\u001b[0m     \u001b[38;5;66;03m# e.g. this is normally a disallowed function on\u001b[39;00m\n\u001b[0;32m     90\u001b[0m     \u001b[38;5;66;03m# object arrays that contain strings\u001b[39;00m\n",
      "File \u001b[1;32mc:\\Users\\warup\\AppData\\Local\\Programs\\Python\\Python39\\lib\\site-packages\\pandas\\core\\nanops.py:147\u001b[0m, in \u001b[0;36mbottleneck_switch.__call__.<locals>.f\u001b[1;34m(values, axis, skipna, **kwds)\u001b[0m\n\u001b[0;32m    146\u001b[0m \u001b[38;5;28;01melse\u001b[39;00m:\n\u001b[1;32m--> 147\u001b[0m     result \u001b[38;5;241m=\u001b[39m alt(values, axis\u001b[38;5;241m=\u001b[39maxis, skipna\u001b[38;5;241m=\u001b[39mskipna, \u001b[38;5;241m*\u001b[39m\u001b[38;5;241m*\u001b[39mkwds)\n\u001b[0;32m    149\u001b[0m \u001b[38;5;28;01mreturn\u001b[39;00m result\n",
      "File \u001b[1;32mc:\\Users\\warup\\AppData\\Local\\Programs\\Python\\Python39\\lib\\site-packages\\pandas\\core\\nanops.py:1007\u001b[0m, in \u001b[0;36mnanvar\u001b[1;34m(values, axis, skipna, ddof, mask)\u001b[0m\n\u001b[0;32m   1001\u001b[0m \u001b[38;5;66;03m# xref GH10242\u001b[39;00m\n\u001b[0;32m   1002\u001b[0m \u001b[38;5;66;03m# Compute variance via two-pass algorithm, which is stable against\u001b[39;00m\n\u001b[0;32m   1003\u001b[0m \u001b[38;5;66;03m# cancellation errors and relatively accurate for small numbers of\u001b[39;00m\n\u001b[0;32m   1004\u001b[0m \u001b[38;5;66;03m# observations.\u001b[39;00m\n\u001b[0;32m   1005\u001b[0m \u001b[38;5;66;03m#\u001b[39;00m\n\u001b[0;32m   1006\u001b[0m \u001b[38;5;66;03m# See https://en.wikipedia.org/wiki/Algorithms_for_calculating_variance\u001b[39;00m\n\u001b[1;32m-> 1007\u001b[0m avg \u001b[38;5;241m=\u001b[39m _ensure_numeric(\u001b[43mvalues\u001b[49m\u001b[38;5;241;43m.\u001b[39;49m\u001b[43msum\u001b[49m\u001b[43m(\u001b[49m\u001b[43maxis\u001b[49m\u001b[38;5;241;43m=\u001b[39;49m\u001b[43maxis\u001b[49m\u001b[43m,\u001b[49m\u001b[43m \u001b[49m\u001b[43mdtype\u001b[49m\u001b[38;5;241;43m=\u001b[39;49m\u001b[43mnp\u001b[49m\u001b[38;5;241;43m.\u001b[39;49m\u001b[43mfloat64\u001b[49m\u001b[43m)\u001b[49m) \u001b[38;5;241m/\u001b[39m count\n\u001b[0;32m   1008\u001b[0m \u001b[38;5;28;01mif\u001b[39;00m axis \u001b[38;5;129;01mis\u001b[39;00m \u001b[38;5;129;01mnot\u001b[39;00m \u001b[38;5;28;01mNone\u001b[39;00m:\n",
      "File \u001b[1;32mc:\\Users\\warup\\AppData\\Local\\Programs\\Python\\Python39\\lib\\site-packages\\numpy\\core\\_methods.py:49\u001b[0m, in \u001b[0;36m_sum\u001b[1;34m(a, axis, dtype, out, keepdims, initial, where)\u001b[0m\n\u001b[0;32m     47\u001b[0m \u001b[38;5;28;01mdef\u001b[39;00m \u001b[38;5;21m_sum\u001b[39m(a, axis\u001b[38;5;241m=\u001b[39m\u001b[38;5;28;01mNone\u001b[39;00m, dtype\u001b[38;5;241m=\u001b[39m\u001b[38;5;28;01mNone\u001b[39;00m, out\u001b[38;5;241m=\u001b[39m\u001b[38;5;28;01mNone\u001b[39;00m, keepdims\u001b[38;5;241m=\u001b[39m\u001b[38;5;28;01mFalse\u001b[39;00m,\n\u001b[0;32m     48\u001b[0m          initial\u001b[38;5;241m=\u001b[39m_NoValue, where\u001b[38;5;241m=\u001b[39m\u001b[38;5;28;01mTrue\u001b[39;00m):\n\u001b[1;32m---> 49\u001b[0m     \u001b[38;5;28;01mreturn\u001b[39;00m \u001b[43mumr_sum\u001b[49m\u001b[43m(\u001b[49m\u001b[43ma\u001b[49m\u001b[43m,\u001b[49m\u001b[43m \u001b[49m\u001b[43maxis\u001b[49m\u001b[43m,\u001b[49m\u001b[43m \u001b[49m\u001b[43mdtype\u001b[49m\u001b[43m,\u001b[49m\u001b[43m \u001b[49m\u001b[43mout\u001b[49m\u001b[43m,\u001b[49m\u001b[43m \u001b[49m\u001b[43mkeepdims\u001b[49m\u001b[43m,\u001b[49m\u001b[43m \u001b[49m\u001b[43minitial\u001b[49m\u001b[43m,\u001b[49m\u001b[43m \u001b[49m\u001b[43mwhere\u001b[49m\u001b[43m)\u001b[49m\n",
      "\u001b[1;31mValueError\u001b[0m: could not convert string to float: 'Ford'",
      "\nThe above exception was the direct cause of the following exception:\n",
      "\u001b[1;31mTypeError\u001b[0m                                 Traceback (most recent call last)",
      "Cell \u001b[1;32mIn[37], line 10\u001b[0m\n\u001b[0;32m      8\u001b[0m \u001b[38;5;66;03m# Post processing statistics of the dataset/ dataframe \u001b[39;00m\n\u001b[0;32m      9\u001b[0m \u001b[38;5;28mprint\u001b[39m(\u001b[38;5;124m\"\u001b[39m\u001b[38;5;130;01m\\n\u001b[39;00m\u001b[38;5;124mRemapped DataFrame: \u001b[39m\u001b[38;5;130;01m\\n\u001b[39;00m\u001b[38;5;130;01m\\n\u001b[39;00m\u001b[38;5;124m\"\u001b[39m, df_combined\u001b[38;5;241m.\u001b[39mdescribe()\u001b[38;5;241m.\u001b[39mround(\u001b[38;5;241m3\u001b[39m))  \u001b[38;5;66;03m# This will give you count, mean, std, min, 25%, 50%, 75%, max\u001b[39;00m\n\u001b[1;32m---> 10\u001b[0m \u001b[38;5;28mprint\u001b[39m(\u001b[38;5;124m'\u001b[39m\u001b[38;5;130;01m\\n\u001b[39;00m\u001b[38;5;124mVariance values: \u001b[39m\u001b[38;5;130;01m\\n\u001b[39;00m\u001b[38;5;130;01m\\n\u001b[39;00m\u001b[38;5;124m'\u001b[39m, \u001b[43mdf_combined\u001b[49m\u001b[38;5;241;43m.\u001b[39;49m\u001b[43mvar\u001b[49m\u001b[43m(\u001b[49m\u001b[43m)\u001b[49m)  \u001b[38;5;66;03m# Variance\u001b[39;00m\n\u001b[0;32m     11\u001b[0m \u001b[38;5;28mprint\u001b[39m(\u001b[38;5;124m'\u001b[39m\u001b[38;5;130;01m\\n\u001b[39;00m\u001b[38;5;124mSkew measurement: \u001b[39m\u001b[38;5;130;01m\\n\u001b[39;00m\u001b[38;5;130;01m\\n\u001b[39;00m\u001b[38;5;124m'\u001b[39m,df_combined\u001b[38;5;241m.\u001b[39mskew()\u001b[38;5;241m.\u001b[39mround(\u001b[38;5;241m4\u001b[39m))  \u001b[38;5;66;03m# Skewness\u001b[39;00m\n",
      "File \u001b[1;32mc:\\Users\\warup\\AppData\\Local\\Programs\\Python\\Python39\\lib\\site-packages\\pandas\\core\\frame.py:11379\u001b[0m, in \u001b[0;36mDataFrame.var\u001b[1;34m(self, axis, skipna, ddof, numeric_only, **kwargs)\u001b[0m\n\u001b[0;32m  11370\u001b[0m \u001b[38;5;129m@doc\u001b[39m(make_doc(\u001b[38;5;124m\"\u001b[39m\u001b[38;5;124mvar\u001b[39m\u001b[38;5;124m\"\u001b[39m, ndim\u001b[38;5;241m=\u001b[39m\u001b[38;5;241m2\u001b[39m))\n\u001b[0;32m  11371\u001b[0m \u001b[38;5;28;01mdef\u001b[39;00m \u001b[38;5;21mvar\u001b[39m(\n\u001b[0;32m  11372\u001b[0m     \u001b[38;5;28mself\u001b[39m,\n\u001b[1;32m   (...)\u001b[0m\n\u001b[0;32m  11377\u001b[0m     \u001b[38;5;241m*\u001b[39m\u001b[38;5;241m*\u001b[39mkwargs,\n\u001b[0;32m  11378\u001b[0m ):\n\u001b[1;32m> 11379\u001b[0m     result \u001b[38;5;241m=\u001b[39m \u001b[38;5;28msuper\u001b[39m()\u001b[38;5;241m.\u001b[39mvar(axis, skipna, ddof, numeric_only, \u001b[38;5;241m*\u001b[39m\u001b[38;5;241m*\u001b[39mkwargs)\n\u001b[0;32m  11380\u001b[0m     \u001b[38;5;28;01mif\u001b[39;00m \u001b[38;5;28misinstance\u001b[39m(result, Series):\n\u001b[0;32m  11381\u001b[0m         result \u001b[38;5;241m=\u001b[39m result\u001b[38;5;241m.\u001b[39m__finalize__(\u001b[38;5;28mself\u001b[39m, method\u001b[38;5;241m=\u001b[39m\u001b[38;5;124m\"\u001b[39m\u001b[38;5;124mvar\u001b[39m\u001b[38;5;124m\"\u001b[39m)\n",
      "File \u001b[1;32mc:\\Users\\warup\\AppData\\Local\\Programs\\Python\\Python39\\lib\\site-packages\\pandas\\core\\generic.py:11895\u001b[0m, in \u001b[0;36mNDFrame.var\u001b[1;34m(self, axis, skipna, ddof, numeric_only, **kwargs)\u001b[0m\n\u001b[0;32m  11887\u001b[0m \u001b[38;5;28;01mdef\u001b[39;00m \u001b[38;5;21mvar\u001b[39m(\n\u001b[0;32m  11888\u001b[0m     \u001b[38;5;28mself\u001b[39m,\n\u001b[0;32m  11889\u001b[0m     axis: Axis \u001b[38;5;241m|\u001b[39m \u001b[38;5;28;01mNone\u001b[39;00m \u001b[38;5;241m=\u001b[39m \u001b[38;5;241m0\u001b[39m,\n\u001b[1;32m   (...)\u001b[0m\n\u001b[0;32m  11893\u001b[0m     \u001b[38;5;241m*\u001b[39m\u001b[38;5;241m*\u001b[39mkwargs,\n\u001b[0;32m  11894\u001b[0m ) \u001b[38;5;241m-\u001b[39m\u001b[38;5;241m>\u001b[39m Series \u001b[38;5;241m|\u001b[39m \u001b[38;5;28mfloat\u001b[39m:\n\u001b[1;32m> 11895\u001b[0m     \u001b[38;5;28;01mreturn\u001b[39;00m \u001b[38;5;28mself\u001b[39m\u001b[38;5;241m.\u001b[39m_stat_function_ddof(\n\u001b[0;32m  11896\u001b[0m         \u001b[38;5;124m\"\u001b[39m\u001b[38;5;124mvar\u001b[39m\u001b[38;5;124m\"\u001b[39m, nanops\u001b[38;5;241m.\u001b[39mnanvar, axis, skipna, ddof, numeric_only, \u001b[38;5;241m*\u001b[39m\u001b[38;5;241m*\u001b[39mkwargs\n\u001b[0;32m  11897\u001b[0m     )\n",
      "File \u001b[1;32mc:\\Users\\warup\\AppData\\Local\\Programs\\Python\\Python39\\lib\\site-packages\\pandas\\core\\generic.py:11871\u001b[0m, in \u001b[0;36mNDFrame._stat_function_ddof\u001b[1;34m(self, name, func, axis, skipna, ddof, numeric_only, **kwargs)\u001b[0m\n\u001b[0;32m  11868\u001b[0m \u001b[38;5;28;01melif\u001b[39;00m axis \u001b[38;5;129;01mis\u001b[39;00m lib\u001b[38;5;241m.\u001b[39mno_default:\n\u001b[0;32m  11869\u001b[0m     axis \u001b[38;5;241m=\u001b[39m \u001b[38;5;241m0\u001b[39m\n\u001b[1;32m> 11871\u001b[0m \u001b[38;5;28;01mreturn\u001b[39;00m \u001b[38;5;28;43mself\u001b[39;49m\u001b[38;5;241;43m.\u001b[39;49m\u001b[43m_reduce\u001b[49m\u001b[43m(\u001b[49m\n\u001b[0;32m  11872\u001b[0m \u001b[43m    \u001b[49m\u001b[43mfunc\u001b[49m\u001b[43m,\u001b[49m\u001b[43m \u001b[49m\u001b[43mname\u001b[49m\u001b[43m,\u001b[49m\u001b[43m \u001b[49m\u001b[43maxis\u001b[49m\u001b[38;5;241;43m=\u001b[39;49m\u001b[43maxis\u001b[49m\u001b[43m,\u001b[49m\u001b[43m \u001b[49m\u001b[43mnumeric_only\u001b[49m\u001b[38;5;241;43m=\u001b[39;49m\u001b[43mnumeric_only\u001b[49m\u001b[43m,\u001b[49m\u001b[43m \u001b[49m\u001b[43mskipna\u001b[49m\u001b[38;5;241;43m=\u001b[39;49m\u001b[43mskipna\u001b[49m\u001b[43m,\u001b[49m\u001b[43m \u001b[49m\u001b[43mddof\u001b[49m\u001b[38;5;241;43m=\u001b[39;49m\u001b[43mddof\u001b[49m\n\u001b[0;32m  11873\u001b[0m \u001b[43m\u001b[49m\u001b[43m)\u001b[49m\n",
      "File \u001b[1;32mc:\\Users\\warup\\AppData\\Local\\Programs\\Python\\Python39\\lib\\site-packages\\pandas\\core\\frame.py:11207\u001b[0m, in \u001b[0;36mDataFrame._reduce\u001b[1;34m(self, op, name, axis, skipna, numeric_only, filter_type, **kwds)\u001b[0m\n\u001b[0;32m  11203\u001b[0m     df \u001b[38;5;241m=\u001b[39m df\u001b[38;5;241m.\u001b[39mT\n\u001b[0;32m  11205\u001b[0m \u001b[38;5;66;03m# After possibly _get_data and transposing, we are now in the\u001b[39;00m\n\u001b[0;32m  11206\u001b[0m \u001b[38;5;66;03m#  simple case where we can use BlockManager.reduce\u001b[39;00m\n\u001b[1;32m> 11207\u001b[0m res \u001b[38;5;241m=\u001b[39m \u001b[43mdf\u001b[49m\u001b[38;5;241;43m.\u001b[39;49m\u001b[43m_mgr\u001b[49m\u001b[38;5;241;43m.\u001b[39;49m\u001b[43mreduce\u001b[49m\u001b[43m(\u001b[49m\u001b[43mblk_func\u001b[49m\u001b[43m)\u001b[49m\n\u001b[0;32m  11208\u001b[0m out \u001b[38;5;241m=\u001b[39m df\u001b[38;5;241m.\u001b[39m_constructor_from_mgr(res, axes\u001b[38;5;241m=\u001b[39mres\u001b[38;5;241m.\u001b[39maxes)\u001b[38;5;241m.\u001b[39miloc[\u001b[38;5;241m0\u001b[39m]\n\u001b[0;32m  11209\u001b[0m \u001b[38;5;28;01mif\u001b[39;00m out_dtype \u001b[38;5;129;01mis\u001b[39;00m \u001b[38;5;129;01mnot\u001b[39;00m \u001b[38;5;28;01mNone\u001b[39;00m \u001b[38;5;129;01mand\u001b[39;00m out\u001b[38;5;241m.\u001b[39mdtype \u001b[38;5;241m!=\u001b[39m \u001b[38;5;124m\"\u001b[39m\u001b[38;5;124mboolean\u001b[39m\u001b[38;5;124m\"\u001b[39m:\n",
      "File \u001b[1;32mc:\\Users\\warup\\AppData\\Local\\Programs\\Python\\Python39\\lib\\site-packages\\pandas\\core\\internals\\managers.py:1459\u001b[0m, in \u001b[0;36mBlockManager.reduce\u001b[1;34m(self, func)\u001b[0m\n\u001b[0;32m   1457\u001b[0m res_blocks: \u001b[38;5;28mlist\u001b[39m[Block] \u001b[38;5;241m=\u001b[39m []\n\u001b[0;32m   1458\u001b[0m \u001b[38;5;28;01mfor\u001b[39;00m blk \u001b[38;5;129;01min\u001b[39;00m \u001b[38;5;28mself\u001b[39m\u001b[38;5;241m.\u001b[39mblocks:\n\u001b[1;32m-> 1459\u001b[0m     nbs \u001b[38;5;241m=\u001b[39m \u001b[43mblk\u001b[49m\u001b[38;5;241;43m.\u001b[39;49m\u001b[43mreduce\u001b[49m\u001b[43m(\u001b[49m\u001b[43mfunc\u001b[49m\u001b[43m)\u001b[49m\n\u001b[0;32m   1460\u001b[0m     res_blocks\u001b[38;5;241m.\u001b[39mextend(nbs)\n\u001b[0;32m   1462\u001b[0m index \u001b[38;5;241m=\u001b[39m Index([\u001b[38;5;28;01mNone\u001b[39;00m])  \u001b[38;5;66;03m# placeholder\u001b[39;00m\n",
      "File \u001b[1;32mc:\\Users\\warup\\AppData\\Local\\Programs\\Python\\Python39\\lib\\site-packages\\pandas\\core\\internals\\blocks.py:377\u001b[0m, in \u001b[0;36mBlock.reduce\u001b[1;34m(self, func)\u001b[0m\n\u001b[0;32m    371\u001b[0m \u001b[38;5;129m@final\u001b[39m\n\u001b[0;32m    372\u001b[0m \u001b[38;5;28;01mdef\u001b[39;00m \u001b[38;5;21mreduce\u001b[39m(\u001b[38;5;28mself\u001b[39m, func) \u001b[38;5;241m-\u001b[39m\u001b[38;5;241m>\u001b[39m \u001b[38;5;28mlist\u001b[39m[Block]:\n\u001b[0;32m    373\u001b[0m     \u001b[38;5;66;03m# We will apply the function and reshape the result into a single-row\u001b[39;00m\n\u001b[0;32m    374\u001b[0m     \u001b[38;5;66;03m#  Block with the same mgr_locs; squeezing will be done at a higher level\u001b[39;00m\n\u001b[0;32m    375\u001b[0m     \u001b[38;5;28;01massert\u001b[39;00m \u001b[38;5;28mself\u001b[39m\u001b[38;5;241m.\u001b[39mndim \u001b[38;5;241m==\u001b[39m \u001b[38;5;241m2\u001b[39m\n\u001b[1;32m--> 377\u001b[0m     result \u001b[38;5;241m=\u001b[39m \u001b[43mfunc\u001b[49m\u001b[43m(\u001b[49m\u001b[38;5;28;43mself\u001b[39;49m\u001b[38;5;241;43m.\u001b[39;49m\u001b[43mvalues\u001b[49m\u001b[43m)\u001b[49m\n\u001b[0;32m    379\u001b[0m     \u001b[38;5;28;01mif\u001b[39;00m \u001b[38;5;28mself\u001b[39m\u001b[38;5;241m.\u001b[39mvalues\u001b[38;5;241m.\u001b[39mndim \u001b[38;5;241m==\u001b[39m \u001b[38;5;241m1\u001b[39m:\n\u001b[0;32m    380\u001b[0m         res_values \u001b[38;5;241m=\u001b[39m result\n",
      "File \u001b[1;32mc:\\Users\\warup\\AppData\\Local\\Programs\\Python\\Python39\\lib\\site-packages\\pandas\\core\\frame.py:11139\u001b[0m, in \u001b[0;36mDataFrame._reduce.<locals>.blk_func\u001b[1;34m(values, axis)\u001b[0m\n\u001b[0;32m  11137\u001b[0m         \u001b[38;5;28;01mreturn\u001b[39;00m np\u001b[38;5;241m.\u001b[39marray([result])\n\u001b[0;32m  11138\u001b[0m \u001b[38;5;28;01melse\u001b[39;00m:\n\u001b[1;32m> 11139\u001b[0m     \u001b[38;5;28;01mreturn\u001b[39;00m op(values, axis\u001b[38;5;241m=\u001b[39maxis, skipna\u001b[38;5;241m=\u001b[39mskipna, \u001b[38;5;241m*\u001b[39m\u001b[38;5;241m*\u001b[39mkwds)\n",
      "File \u001b[1;32mc:\\Users\\warup\\AppData\\Local\\Programs\\Python\\Python39\\lib\\site-packages\\pandas\\core\\nanops.py:92\u001b[0m, in \u001b[0;36mdisallow.__call__.<locals>._f\u001b[1;34m(*args, **kwargs)\u001b[0m\n\u001b[0;32m     86\u001b[0m \u001b[38;5;28;01mexcept\u001b[39;00m \u001b[38;5;167;01mValueError\u001b[39;00m \u001b[38;5;28;01mas\u001b[39;00m e:\n\u001b[0;32m     87\u001b[0m     \u001b[38;5;66;03m# we want to transform an object array\u001b[39;00m\n\u001b[0;32m     88\u001b[0m     \u001b[38;5;66;03m# ValueError message to the more typical TypeError\u001b[39;00m\n\u001b[0;32m     89\u001b[0m     \u001b[38;5;66;03m# e.g. this is normally a disallowed function on\u001b[39;00m\n\u001b[0;32m     90\u001b[0m     \u001b[38;5;66;03m# object arrays that contain strings\u001b[39;00m\n\u001b[0;32m     91\u001b[0m     \u001b[38;5;28;01mif\u001b[39;00m is_object_dtype(args[\u001b[38;5;241m0\u001b[39m]):\n\u001b[1;32m---> 92\u001b[0m         \u001b[38;5;28;01mraise\u001b[39;00m \u001b[38;5;167;01mTypeError\u001b[39;00m(e) \u001b[38;5;28;01mfrom\u001b[39;00m \u001b[38;5;21;01me\u001b[39;00m\n\u001b[0;32m     93\u001b[0m     \u001b[38;5;28;01mraise\u001b[39;00m\n",
      "\u001b[1;31mTypeError\u001b[0m: could not convert string to float: 'Ford'"
     ]
    }
   ],
   "source": [
    "# Get the number of rows and columns\n",
    "num_rows, num_columns = df_combined.shape\n",
    "\n",
    "# Print the number of rows and columns\n",
    "print(f\"Number of rows: {num_rows}\")\n",
    "print(f\"Number of columns: {num_columns}\")\n",
    "\n",
    "# Post processing statistics of the dataset/ dataframe \n",
    "print(\"\\nRemapped DataFrame: \\n\\n\", df_combined.describe().round(3))  # This will give you count, mean, std, min, 25%, 50%, 75%, max\n",
    "print('\\nVariance values: \\n\\n', df_combined.var())  # Variance\n",
    "print('\\nSkew measurement: \\n\\n',df_combined.skew().round(4))  # Skewness"
   ]
  },
  {
   "cell_type": "markdown",
   "metadata": {},
   "source": [
    "MinMaxScaler was chosen for Annual Income and Price because the rest of the dataset is so ingrained with binary data, have a normalized range between 0 and 1 for these classes worked well."
   ]
  },
  {
   "cell_type": "code",
   "execution_count": 27,
   "metadata": {},
   "outputs": [
    {
     "name": "stdout",
     "output_type": "stream",
     "text": [
      "0\n"
     ]
    }
   ],
   "source": [
    "na_count = df_combined['Annual Income'].isna().sum()\n",
    "print(na_count)"
   ]
  },
  {
   "cell_type": "code",
   "execution_count": 28,
   "metadata": {},
   "outputs": [
    {
     "name": "stdout",
     "output_type": "stream",
     "text": [
      "   Annual Income   Company  Model  Price ($)  Body Style_Hardtop  \\\n",
      "0       0.000000      Ford     59   0.221932                 0.0   \n",
      "1       0.253435     Dodge     51   0.130548                 0.0   \n",
      "2       0.176532  Cadillac     55   0.293734                 0.0   \n",
      "3       0.000000    Toyota     35   0.065274                 0.0   \n",
      "4       0.250842     Acura    140   0.202350                 0.0   \n",
      "\n",
      "   Body Style_Hatchback  Body Style_Passenger  Body Style_SUV  \\\n",
      "0                   0.0                   0.0             1.0   \n",
      "1                   0.0                   0.0             1.0   \n",
      "2                   0.0                   1.0             0.0   \n",
      "3                   0.0                   0.0             1.0   \n",
      "4                   1.0                   0.0             0.0   \n",
      "\n",
      "   Body Style_Sedan  Dealer_Region_Aurora  ...  Dealer_Region_Middletown  \\\n",
      "0               0.0                   0.0  ...                       1.0   \n",
      "1               0.0                   1.0  ...                       0.0   \n",
      "2               0.0                   0.0  ...                       0.0   \n",
      "3               0.0                   0.0  ...                       0.0   \n",
      "4               0.0                   0.0  ...                       0.0   \n",
      "\n",
      "   Dealer_Region_Pasco  Dealer_Region_Scottsdale  Color_Black  \\\n",
      "0                  0.0                       0.0          1.0   \n",
      "1                  0.0                       0.0          1.0   \n",
      "2                  0.0                       0.0          0.0   \n",
      "3                  1.0                       0.0          0.0   \n",
      "4                  0.0                       0.0          0.0   \n",
      "\n",
      "   Color_Pale White  Color_Red  Transmission_Auto  Transmission_Manual  \\\n",
      "0               0.0        0.0                1.0                  0.0   \n",
      "1               0.0        0.0                1.0                  0.0   \n",
      "2               0.0        1.0                0.0                  1.0   \n",
      "3               1.0        0.0                0.0                  1.0   \n",
      "4               0.0        1.0                1.0                  0.0   \n",
      "\n",
      "   Gender_Female  Gender_Male  \n",
      "0            0.0          1.0  \n",
      "1            0.0          1.0  \n",
      "2            0.0          1.0  \n",
      "3            0.0          1.0  \n",
      "4            0.0          1.0  \n",
      "\n",
      "[5 rows x 23 columns]\n"
     ]
    }
   ],
   "source": [
    "\n",
    "# Setup the scalar\n",
    "scaler = MinMaxScaler()\n",
    "\n",
    "# Select the columns to be normalized\n",
    "columns_to_normalize = ['Annual Income','Price ($)']  # Replace with your actual column names\n",
    "\n",
    "# Normalize the selected columns\n",
    "df_normalized = df_combined.copy()\n",
    "df_normalized[columns_to_normalize] = scaler.fit_transform(df_normalized[columns_to_normalize])\n",
    "\n",
    "# Print the normalized dataframe\n",
    "print(df_normalized.head())\n"
   ]
  },
  {
   "cell_type": "markdown",
   "metadata": {},
   "source": [
    "Below, the dataset's Gender_Male feature is undersampled so that there is a normal distribution of males & females in the dataset."
   ]
  },
  {
   "cell_type": "code",
   "execution_count": 31,
   "metadata": {},
   "outputs": [
    {
     "name": "stdout",
     "output_type": "stream",
     "text": [
      "Before sampling: \n",
      " Gender_Male\n",
      "1.0    3079\n",
      "0.0     920\n",
      "Name: count, dtype: int64\n",
      "\n",
      "After sampling: \n",
      " Gender_Male\n",
      "1.0    920\n",
      "0.0    920\n",
      "Name: count, dtype: int64\n",
      "      Annual Income    Company  Model  Price ($) Dealer_Region  \\\n",
      "3373       0.169619      Dodge     30   0.378590    Janesville   \n",
      "2179       0.386503      Lexus     66   0.104439    Greenville   \n",
      "1347       0.148881  Chevrolet     92   0.130548    Middletown   \n",
      "3672       0.153288     Nissan    107   0.868159    Greenville   \n",
      "2705       0.326882     Toyota    135   0.241514    Greenville   \n",
      "\n",
      "      Body Style_Hardtop  Body Style_Hatchback  Body Style_Passenger  \\\n",
      "3373                 0.0                   0.0                   0.0   \n",
      "2179                 0.0                   0.0                   1.0   \n",
      "1347                 0.0                   0.0                   1.0   \n",
      "3672                 0.0                   0.0                   0.0   \n",
      "2705                 0.0                   0.0                   1.0   \n",
      "\n",
      "      Body Style_SUV  Body Style_Sedan  Color_Black  Color_Pale White  \\\n",
      "3373             1.0               0.0          0.0               1.0   \n",
      "2179             0.0               0.0          0.0               0.0   \n",
      "1347             0.0               0.0          0.0               1.0   \n",
      "3672             1.0               0.0          0.0               1.0   \n",
      "2705             0.0               0.0          1.0               0.0   \n",
      "\n",
      "      Color_Red  Transmission_Auto  Transmission_Manual  Gender_Female  \\\n",
      "3373        0.0                1.0                  0.0            0.0   \n",
      "2179        1.0                0.0                  1.0            0.0   \n",
      "1347        0.0                1.0                  0.0            0.0   \n",
      "3672        0.0                1.0                  0.0            0.0   \n",
      "2705        0.0                0.0                  1.0            0.0   \n",
      "\n",
      "      Gender_Male  \n",
      "3373          1.0  \n",
      "2179          1.0  \n",
      "1347          1.0  \n",
      "3672          1.0  \n",
      "2705          1.0  \n"
     ]
    }
   ],
   "source": [
    "print(\"Before sampling: \\n\", df_normalized.Gender_Male.value_counts())\n",
    "\n",
    "# Separate majority and minority classes\n",
    "df_majority = df_normalized[df_normalized.Gender_Male==1]\n",
    "df_minority = df_normalized[df_normalized.Gender_Male==0]\n",
    "\n",
    "# Downsample majority class\n",
    "df_majority_downsampled = resample(df_majority, \n",
    "                                 replace=False,    # sample without replacement\n",
    "                                 n_samples=len(df_minority),     # to match minority class\n",
    "                                 random_state=123) # reproducible results\n",
    "\n",
    "# Combine minority class with downsampled majority class\n",
    "df_downsampled = pd.concat([df_majority_downsampled, df_minority])\n",
    "\n",
    "# Display new class counts\n",
    "print(\"\\nAfter sampling: \\n\",df_downsampled.Gender_Male.value_counts())\n",
    "print(df_downsampled.head())"
   ]
  },
  {
   "cell_type": "code",
   "execution_count": 34,
   "metadata": {},
   "outputs": [],
   "source": [
    "# Set up the X and y variables\n",
    "features = ['Annual Income', 'Gender', 'Dealer_Region', 'Price ($)']\n",
    "X = df_downsampled.drop(columns=['Dealer_Region'])  # Replace with the actual columns for X\n",
    "y = df_downsampled['Company']\n",
    "\n",
    "# Preprocessing: Numeric features scaling and Categorical features encoding\n",
    "numeric_features = ['Annual Income', 'Price ($)']\n",
    "numeric_transformer = StandardScaler()\n",
    "\n",
    "#categorical_features = ['Company', 'Color']\n",
    "categorical_features = ['Gender', 'Dealer_Region']\n",
    "categorical_transformer = OneHotEncoder(handle_unknown='ignore')\n",
    "\n",
    "preprocessor = ColumnTransformer(\n",
    "    transformers=[\n",
    "        ('num', numeric_transformer, numeric_features),\n",
    "        ('cat', categorical_transformer, categorical_features)\n",
    "    ])\n",
    "\n",
    "# Splitting dataset into training and validation sets\n",
    "X_train, X_val, y_train, y_val = train_test_split(X, y, test_size=0.2, random_state=42)\n"
   ]
  },
  {
   "cell_type": "code",
   "execution_count": 36,
   "metadata": {},
   "outputs": [],
   "source": [
    "# Spot Check Algorithms\n",
    "models = {\n",
    "    'Naive Bayes': GaussianNB(),\n",
    "    'SVM': SVC(probability=True),\n",
    "    'Neural Network': MLPClassifier(max_iter=1000)\n",
    "}"
   ]
  },
  {
   "cell_type": "code",
   "execution_count": 37,
   "metadata": {},
   "outputs": [],
   "source": [
    "class DenseTransformer(TransformerMixin, BaseEstimator):\n",
    "    def fit(self, X, y=None, **fit_params):\n",
    "        return self\n",
    "\n",
    "    def transform(self, X, y=None, **fit_params):\n",
    "        if scipy.sparse.issparse(X):\n",
    "            return X.toarray()\n",
    "        else:\n",
    "            return X"
   ]
  },
  {
   "cell_type": "code",
   "execution_count": 39,
   "metadata": {},
   "outputs": [
    {
     "name": "stdout",
     "output_type": "stream",
     "text": [
      "Naive Bayes Metrics:\n",
      "Accuracy: 0.03125\n",
      "Precision: 0.40300698418655073\n",
      "Recall: 0.04451501723023856\n",
      "F1-Score: 0.023053669180357433\n",
      "AUC: 0.5260936635137053 \n",
      "\n",
      "SVM Metrics:\n",
      "Accuracy: 0.07625\n",
      "Precision: 0.49890890303570323\n",
      "Recall: 0.04230267328791078\n",
      "F1-Score: 0.028049276204403607\n",
      "AUC: 0.5689330610835187 \n",
      "\n",
      "Neural Network Metrics:\n",
      "Accuracy: 0.06375\n",
      "Precision: 0.07879413569180235\n",
      "Recall: 0.04253471241317525\n",
      "F1-Score: 0.039858827872803\n",
      "AUC: 0.5676751023265603 \n",
      "\n"
     ]
    },
    {
     "name": "stderr",
     "output_type": "stream",
     "text": [
      "c:\\Users\\warup\\AppData\\Local\\Programs\\Python\\Python39\\lib\\site-packages\\sklearn\\neural_network\\_multilayer_perceptron.py:691: ConvergenceWarning: Stochastic Optimizer: Maximum iterations (1000) reached and the optimization hasn't converged yet.\n",
      "  warnings.warn(\n"
     ]
    }
   ],
   "source": [
    "# Evaluate models\n",
    "for name, model in models.items():\n",
    "    pipeline = Pipeline(steps=[('preprocessor', preprocessor),\n",
    "                               ('to_dense', DenseTransformer()),  # This will convert sparse output to dense\n",
    "                               ('classifier', model)])\n",
    "    pipeline.fit(X_train, y_train)\n",
    "    y_pred = pipeline.predict(X_val)\n",
    "    y_proba = pipeline.predict_proba(X_val)#[:, 1]\n",
    "\n",
    "    print(f'{name} Metrics:')\n",
    "    print('Accuracy:', accuracy_score(y_val, y_pred))\n",
    "    print('Precision:', precision_score(y_val, y_pred, average='macro', zero_division=1))\n",
    "    print('Recall:', recall_score(y_val, y_pred, average='macro', zero_division=1))\n",
    "    print('F1-Score:', f1_score(y_val, y_pred, average='macro', zero_division=1))\n",
    "    print('AUC:', roc_auc_score(y_val, y_proba, multi_class='ovr', average='macro'), '\\n')"
   ]
  },
  {
   "cell_type": "markdown",
   "metadata": {},
   "source": [
    "**Propose strategies to improve the performance of the selected models through data preprocessing, feature engineering, and hyperparameter tuning.**"
   ]
  },
  {
   "cell_type": "markdown",
   "metadata": {},
   "source": [
    "* Data Preprocessing: Ensure all missing values are handled, either by imputation or removal. Normalize or standardize numerical features to ensure equal weighting. Encode categorical variables appropriately.\n",
    "* Feature Engineering: Create new features that might be relevant for the prediction, such as extracting information from dates or aggregating categorical variables.\n",
    "* Hyperparameter Tuning: Use grid search or random search to find the optimal hyperparameters for each model. This process can be integrated into the pipelines with GridSearchCV or RandomizedSearchCV.\n",
    "* Model Complexity: For neural networks, experiment with different architectures, adding layers, or changing the activation functions. For SVM, try different kernels. For Naive Bayes, there's limited scope for tuning, but ensuring feature independence might help."
   ]
  },
  {
   "cell_type": "code",
   "execution_count": 40,
   "metadata": {},
   "outputs": [
    {
     "name": "stdout",
     "output_type": "stream",
     "text": [
      "Random Forest Ensemble Metrics:\n",
      "Accuracy: 0.09875\n",
      "Precision: 0.08513890804439045\n",
      "Recall: 0.08072949270920869\n",
      "F1-Score: 0.08056379637731524\n",
      "AUC: 0.5965684475482728 \n",
      "\n",
      "\n",
      "Gradient Boosting Ensemble Metrics:\n",
      "Accuracy: 0.14875\n",
      "Precision: 0.1272718827027815\n",
      "Recall: 0.12406407974497119\n",
      "F1-Score: 0.12413075518955613\n",
      "AUC: 0.7818134580895582 \n",
      "\n",
      "\n",
      "Voting Classifier Ensemble Metrics:\n",
      "Accuracy: 0.04625\n",
      "Precision: 0.09739941807369841\n",
      "Recall: 0.0540870702947557\n",
      "F1-Score: 0.04151600556856155\n",
      "AUC: 0.6072708157901062 \n",
      "\n",
      "\n"
     ]
    }
   ],
   "source": [
    "# Ensemble Models with Pipelines\n",
    "ensemble_models = {\n",
    "    'Random Forest': RandomForestClassifier(n_estimators=100),\n",
    "    'Gradient Boosting': GradientBoostingClassifier(n_estimators=100),\n",
    "    'Voting Classifier': VotingClassifier(estimators=[\n",
    "        ('lr', LogisticRegression(max_iter=1000)),\n",
    "        ('rf', RandomForestClassifier(n_estimators=100)),\n",
    "        ('gnb', GaussianNB())], voting='soft')\n",
    "}\n",
    "\n",
    "for name, model in ensemble_models.items():\n",
    "    pipeline = Pipeline(steps=[('preprocessor', preprocessor),\n",
    "                               ('to_dense', DenseTransformer()),  # This will convert sparse output to dense\n",
    "                               ('classifier', model)])\n",
    "    pipeline.fit(X_train, y_train)\n",
    "    y_pred = pipeline.predict(X_val)\n",
    "    y_proba = pipeline.predict_proba(X_val)#[:, 1]\n",
    "\n",
    "    print(f'{name} Ensemble Metrics:')\n",
    "    print('Accuracy:', accuracy_score(y_val, y_pred))\n",
    "    print('Precision:', precision_score(y_val, y_pred, average='macro', zero_division=1))\n",
    "    print('Recall:', recall_score(y_val, y_pred, average='macro', zero_division=1))\n",
    "    print('F1-Score:', f1_score(y_val, y_pred, average='macro', zero_division=1))\n",
    "    print('AUC:', roc_auc_score(y_val, y_proba, multi_class='ovr', average='macro'), '\\n')\n",
    "    print('')"
   ]
  }
 ],
 "metadata": {
  "kernelspec": {
   "display_name": "Python 3",
   "language": "python",
   "name": "python3"
  },
  "language_info": {
   "codemirror_mode": {
    "name": "ipython",
    "version": 3
   },
   "file_extension": ".py",
   "mimetype": "text/x-python",
   "name": "python",
   "nbconvert_exporter": "python",
   "pygments_lexer": "ipython3",
   "version": "3.9.5"
  }
 },
 "nbformat": 4,
 "nbformat_minor": 2
}
