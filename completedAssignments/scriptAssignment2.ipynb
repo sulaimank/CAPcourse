{
 "cells": [
  {
   "cell_type": "markdown",
   "metadata": {},
   "source": [
    "# Script Assignment 2 - \n",
    "## Zach Novak, Marco Bogani, Ivan Lima, Daman Sawhney and Sulaiman Karmali. \n"
   ]
  },
  {
   "cell_type": "code",
   "execution_count": 13,
   "metadata": {},
   "outputs": [],
   "source": [
    "# Import the relevant libraries\n",
    "\n",
    "import numpy as np\n",
    "import pandas as pd\n",
    "from sklearn.model_selection import train_test_split\n",
    "from sklearn.metrics import accuracy_score, precision_score, recall_score, f1_score\n",
    "from sklearn.discriminant_analysis import StandardScaler\n",
    "import matplotlib.pyplot as plt"
   ]
  },
  {
   "cell_type": "markdown",
   "metadata": {},
   "source": [
    "### 1. Pre-processing"
   ]
  },
  {
   "cell_type": "code",
   "execution_count": 14,
   "metadata": {},
   "outputs": [
    {
     "name": "stdout",
     "output_type": "stream",
     "text": [
      "\n",
      "DataFrame head preview...\n",
      "     income    age  Credit_Score  dtir1  loan_amount  Status\n",
      "0   1740.0  25-34           758   45.0       116500       1\n",
      "1   4980.0  55-64           552    NaN       206500       1\n",
      "2   9480.0  35-44           834   46.0       406500       0\n",
      "3  11880.0  45-54           587   42.0       456500       0\n",
      "4  10440.0  25-34           602   39.0       696500       0\n",
      "\n",
      "Data types before processing...\n",
      " income          float64\n",
      "age              object\n",
      "Credit_Score      int64\n",
      "dtir1           float64\n",
      "loan_amount       int64\n",
      "Status            int64\n",
      "dtype: object\n"
     ]
    }
   ],
   "source": [
    "# Read CSV into a DataFrame\n",
    "df = pd.read_csv(r'C:\\Users\\Setup User\\University of Central Florida\\CAP5619_GRP - General\\Script Assigments\\Script_Assign_2\\LoanData.csv')\n",
    "\n",
    "# Selecting the relevant columns\n",
    "df = df.loc[:, ['income', 'age', 'Credit_Score', 'dtir1', 'loan_amount','Status']]\n",
    "\n",
    "# df preview\n",
    "print(\"\\nDataFrame head preview...\\n\",df.head())\n",
    "\n",
    "# data types before processing\n",
    "print(\"\\nData types before processing...\\n\",df.dtypes)\n",
    "\n",
    "# before data type can be converted to int, we need to fill in the missing values\n",
    "df['income'] = df['income'].fillna(0).astype(int)\n",
    "df['Credit_Score'] = df['Credit_Score'].fillna(0).astype(int)\n",
    "df['dtir1'] = df['dtir1'].fillna(0).astype(int)\n",
    "df['loan_amount'] = df['loan_amount'].fillna(0).astype(int)\n",
    "df['Status'] = df['Status'].fillna(0).astype(int)\n",
    "df['age'] = df['age'].fillna(0).astype(str)\n",
    "\n",
    "# Function to reformat age column\n",
    "def process_age_range(value):\n",
    "    if '-' in value:\n",
    "        age_range = value.split('-')\n",
    "        return age_range[1]\n",
    "    elif value.startswith('>'):\n",
    "        return value[1:]\n",
    "    elif value.startswith('<'):\n",
    "        return value[1:]\n",
    "    else:\n",
    "        return value\n",
    "df['age'] = df['age'].apply(process_age_range)\n",
    "\n",
    "# Set age to int data type\n",
    "df['age'] = df['age'].fillna(0).astype(int)\n",
    "\n",
    "\n",
    "\n",
    "df_with_nan = df.copy()\n"
   ]
  },
  {
   "cell_type": "markdown",
   "metadata": {},
   "source": [
    "* Above, it can be observed that the columns chosen for this study are different data types (float64, object, int64). Code is implemented to convert all columns to an integer type as required by the Gradient Descent. For the age column, first the Process_age_function is defined to remove the value range format as seen in the DataFrame head preview per the above cell's output."
   ]
  },
  {
   "cell_type": "code",
   "execution_count": 15,
   "metadata": {},
   "outputs": [
    {
     "name": "stdout",
     "output_type": "stream",
     "text": [
      "\n",
      "Data types post processing...\n",
      " income          int32\n",
      "age             int32\n",
      "Credit_Score    int32\n",
      "dtir1           int32\n",
      "loan_amount     int32\n",
      "Status          int32\n",
      "dtype: object\n",
      "\n",
      "DataFrame head preview...\n",
      "    income  age  Credit_Score  dtir1  loan_amount  Status\n",
      "0    1740   34           758     45       116500       1\n",
      "1    4980   64           552      0       206500       1\n",
      "2    9480   44           834     46       406500       0\n",
      "\n",
      "DataFrame tail preview...\n",
      "         income  age  Credit_Score  dtir1  loan_amount  Status\n",
      "148667    6900   54           702     49       446500       0\n",
      "148668    7140   64           737     29       196500       0\n",
      "148669    7260   54           830     44       406500       0\n",
      "\n",
      "DataFrame description...\n",
      "           income        age  Credit_Score      dtir1  loan_amount     Status\n",
      "count  148670.00  148670.00     148670.00  148670.00    148670.00  148670.00\n",
      "mean     6529.14      54.83        699.79      31.61    331117.74       0.25\n",
      "std      6511.82      13.47        115.88      16.93    183909.31       0.43\n",
      "min         0.00       0.00        500.00       0.00     16500.00       0.00\n",
      "25%      3360.00      44.00        599.00      23.00    196500.00       0.00\n",
      "50%      5460.00      54.00        699.00      37.00    296500.00       0.00\n",
      "75%      8280.00      64.00        800.00      44.00    436500.00       0.00\n",
      "max    578580.00      74.00        900.00      61.00   3576500.00       1.00\n"
     ]
    }
   ],
   "source": [
    "# DataFrame after preprocessing\n",
    "\n",
    "print(\"\\nData types post processing...\\n\",df.dtypes)\n",
    "print(\"\\nDataFrame head preview...\\n\",df.head(3))\n",
    "print(\"\\nDataFrame tail preview...\\n\",df.tail(3))\n",
    "print(\"\\nDataFrame description...\\n\",df.describe().round(2))\n",
    "\n",
    "\n"
   ]
  },
  {
   "cell_type": "markdown",
   "metadata": {},
   "source": [
    "* The outcome of the preprocessing can be viewed in the above cell's output. All columns are now an integer data type, the DataFrame head preview shows the data is formatted, and the DataFrame description is able to now give meaningful analysis for the dataset. However, there is one item of concern. The min values for income and age are 0 which signifies incomplete data for those rows in the DataFrame. "
   ]
  },
  {
   "cell_type": "code",
   "execution_count": 16,
   "metadata": {},
   "outputs": [
    {
     "name": "stdout",
     "output_type": "stream",
     "text": [
      "\n",
      "DataFrame description...\n",
      "           income        age  Credit_Score      dtir1  loan_amount     Status\n",
      "count  138260.00  138260.00     138260.00  138260.00    138260.00  138260.00\n",
      "mean     7020.74      54.95        699.88      33.93    328767.97       0.25\n",
      "std      6491.93      13.31        115.84      15.16    184463.22       0.43\n",
      "min        60.00      25.00        500.00       0.00     16500.00       0.00\n",
      "25%      3780.00      44.00        600.00      28.00    196500.00       0.00\n",
      "50%      5760.00      54.00        700.00      37.00    296500.00       0.00\n",
      "75%      8580.00      64.00        800.00      44.00    436500.00       0.00\n",
      "max    578580.00      74.00        900.00      61.00   3576500.00       1.00\n",
      "\n",
      "\n",
      "DataFrame WITH NaN values row count...\n",
      " 148670\n",
      "\n",
      "DataFrame WITHOUT NaN values row count...\n",
      " 138260\n"
     ]
    }
   ],
   "source": [
    "# set columns to replace 0 values to NaN, then have the NaN values removed\n",
    "\n",
    "df['age'] = df['age'].replace(0, np.nan)\n",
    "df['income'] = df['income'].replace(0, np.nan)\n",
    "\n",
    "# remove NaN values from the DataFrame\n",
    "df = df.dropna()\n",
    "\n",
    "# DataFrame statistics after removing NaN values\n",
    "print(\"\\nDataFrame description...\\n\",df.describe().round(2))\n",
    "\n",
    "\n",
    "print(\"\\n\\nDataFrame WITH NaN values row count...\\n\", len(df_with_nan))\n",
    "print(\"\\nDataFrame WITHOUT NaN values row count...\\n\", len(df))"
   ]
  },
  {
   "cell_type": "markdown",
   "metadata": {},
   "source": [
    "* With the 0 values removed, the dataset description shows a more meaningful statistical overview. \n",
    "* It can be confirmed by the before and after DataFrame len() change. 10,410 rows contained 0 or NaN which were dropped from the DataFrame.\n",
    "\n",
    "### 2. Splitting training and test data"
   ]
  },
  {
   "cell_type": "code",
   "execution_count": 17,
   "metadata": {},
   "outputs": [],
   "source": [
    "\n",
    "# Prepare the dataset for training\n",
    "X = df[['income', 'age', 'Credit_Score', 'dtir1', 'loan_amount']].values\n",
    "y = df['Status'].values  # Assuming the target variable column is 'Status'\n",
    "\n",
    "# Split the dataset into training and testing sets (80% training, 20% testing)\n",
    "X_train, X_test, y_train, y_test = train_test_split(X, y, test_size=0.2, random_state=42)\n"
   ]
  },
  {
   "cell_type": "markdown",
   "metadata": {},
   "source": [
    "### 3. Scaling and cost computation"
   ]
  },
  {
   "cell_type": "code",
   "execution_count": 18,
   "metadata": {},
   "outputs": [],
   "source": [
    "\n",
    "# Feature scaling\n",
    "scaler = StandardScaler()\n",
    "X_train_scaled = scaler.fit_transform(X_train)\n",
    "X_test_scaled = scaler.transform(X_test)"
   ]
  },
  {
   "cell_type": "code",
   "execution_count": 19,
   "metadata": {},
   "outputs": [],
   "source": [
    "\n",
    "# Sigmoid function\n",
    "def sigmoid(z):\n",
    "    return 1 / (1 + np.exp(-z))"
   ]
  },
  {
   "cell_type": "code",
   "execution_count": 20,
   "metadata": {},
   "outputs": [],
   "source": [
    "\n",
    "# Compute cost\n",
    "def compute_cost(X, y, weights, bias):\n",
    "    m = len(y)\n",
    "    y_pred = sigmoid(np.dot(X, weights) + bias)\n",
    "    return -(1 / m) * np.sum(y * np.log(y_pred) + (1 - y) * np.log(1 - y_pred))"
   ]
  },
  {
   "cell_type": "markdown",
   "metadata": {},
   "source": [
    "### 4. Implement Gradient Descent function"
   ]
  },
  {
   "cell_type": "code",
   "execution_count": 21,
   "metadata": {},
   "outputs": [],
   "source": [
    "\n",
    "# Gradient descent function supporting Batch, SGD, and Mini-batch\n",
    "def gradient_descent(X, y, weights, bias, learning_rate, iterations, batch_size=None):\n",
    "    m, n = X.shape\n",
    "    cost_history = []\n",
    "\n",
    "    for i in range(iterations):\n",
    "        if batch_size is None or batch_size >= m:\n",
    "            X_batch, y_batch = X, y\n",
    "        elif batch_size == 1:\n",
    "            idx = np.random.randint(0, m)\n",
    "            X_batch, y_batch = X[idx:idx + 1], y[idx:idx + 1]\n",
    "        else:\n",
    "            idx = np.random.choice(m, batch_size, replace=False)\n",
    "            X_batch, y_batch = X[idx], y[idx]\n",
    "\n",
    "        y_pred = sigmoid(np.dot(X_batch, weights) + bias)\n",
    "        dw = (1 / m) * np.dot(X_batch.T, (y_pred - y_batch))\n",
    "        db = (1 / m) * np.sum(y_pred - y_batch)\n",
    "\n",
    "        weights -= learning_rate * dw\n",
    "        bias -= learning_rate * db\n",
    "\n",
    "        if i % 100 == 0:\n",
    "            cost = compute_cost(X, y, weights, bias)\n",
    "            cost_history.append(cost)\n",
    "            print(f\"Iteration {i}: Cost {cost}\")\n",
    "\n",
    "    return weights, bias, cost_history\n",
    "\n",
    "\n",
    "# Initialize parameters\n",
    "weights = np.zeros(X_train.shape[1])\n",
    "bias = 0\n",
    "iterations = 1000\n",
    "learning_rate = 0.01\n",
    "\n",
    "# \"None\" for batch GD, \"1\" for SGD, >1 for Mini-batch GD\n",
    "batch_size = None\n",
    "\n"
   ]
  },
  {
   "cell_type": "markdown",
   "metadata": {},
   "source": [
    "* With the infrastructure setup, we can diverge into training/testing/evaluating with and without scaling."
   ]
  },
  {
   "cell_type": "markdown",
   "metadata": {},
   "source": [
    "### 5. Without scaling..."
   ]
  },
  {
   "cell_type": "code",
   "execution_count": 22,
   "metadata": {},
   "outputs": [
    {
     "name": "stdout",
     "output_type": "stream",
     "text": [
      "Training without scaling...\n",
      "Iteration 0: Cost nan\n"
     ]
    },
    {
     "name": "stderr",
     "output_type": "stream",
     "text": [
      "C:\\Users\\Setup User\\AppData\\Local\\Temp\\ipykernel_28192\\3630237461.py:3: RuntimeWarning: overflow encountered in exp\n",
      "  return 1 / (1 + np.exp(-z))\n",
      "C:\\Users\\Setup User\\AppData\\Local\\Temp\\ipykernel_28192\\4043861937.py:5: RuntimeWarning: divide by zero encountered in log\n",
      "  return -(1 / m) * np.sum(y * np.log(y_pred) + (1 - y) * np.log(1 - y_pred))\n",
      "C:\\Users\\Setup User\\AppData\\Local\\Temp\\ipykernel_28192\\4043861937.py:5: RuntimeWarning: invalid value encountered in multiply\n",
      "  return -(1 / m) * np.sum(y * np.log(y_pred) + (1 - y) * np.log(1 - y_pred))\n"
     ]
    },
    {
     "name": "stdout",
     "output_type": "stream",
     "text": [
      "Iteration 100: Cost nan\n",
      "Iteration 200: Cost nan\n",
      "Iteration 300: Cost nan\n",
      "Iteration 400: Cost nan\n",
      "Iteration 500: Cost nan\n",
      "Iteration 600: Cost nan\n",
      "Iteration 700: Cost nan\n",
      "Iteration 800: Cost nan\n",
      "Iteration 900: Cost nan\n",
      "\n",
      "Evaluating the unscaled model...\n",
      "Accuracy: 0.7509764212353537\n",
      "Precision: 0.0\n",
      "Recall: 0.0\n",
      "F1 Score: 0.0\n"
     ]
    },
    {
     "name": "stderr",
     "output_type": "stream",
     "text": [
      "c:\\Python312\\Lib\\site-packages\\sklearn\\metrics\\_classification.py:1497: UndefinedMetricWarning: Precision is ill-defined and being set to 0.0 due to no predicted samples. Use `zero_division` parameter to control this behavior.\n",
      "  _warn_prf(average, modifier, f\"{metric.capitalize()} is\", len(result))\n"
     ]
    }
   ],
   "source": [
    "# Train without scaling\n",
    "print(\"Training without scaling...\")\n",
    "weights_noscale, bias_noscale, cost_history_noscale = gradient_descent(X_train, y_train, np.zeros(X_train.shape[1]), 0, 0.01, 1000, batch_size)\n",
    "\n",
    "\n",
    "# Prediction function\n",
    "def predict(X, weights, bias):\n",
    "    return (sigmoid(np.dot(X, weights) + bias) > 0.5).astype(int)\n",
    "\n",
    "y_pred_test_noscale = predict(X_test, weights_noscale, bias_noscale)\n",
    "\n",
    "# evaluate the unscaled model\n",
    "print(\"\\nEvaluating the unscaled model...\")\n",
    "accuracy = accuracy_score(y_test, y_pred_test_noscale)\n",
    "print(f\"Accuracy: {accuracy}\")\n",
    "precision = precision_score(y_test, y_pred_test_noscale)\n",
    "print(f\"Precision: {precision}\")\n",
    "recall = recall_score(y_test, y_pred_test_noscale)\n",
    "print(f\"Recall: {recall}\")\n",
    "f1 = f1_score(y_test, y_pred_test_noscale)\n",
    "print(f\"F1 Score: {f1}\")\n"
   ]
  },
  {
   "cell_type": "markdown",
   "metadata": {},
   "source": [
    "* Above, it is observed that the error 'overflow encountered...' demonstrates the exponential computations without scaling will be beyond the model's capabilities.\n",
    "* Although accuracy did generate a result, the model can be determined as flawed since the other metrics (precision, recall and F1 Score) are 0.\n",
    "### 6. With Scaling..."
   ]
  },
  {
   "cell_type": "code",
   "execution_count": 23,
   "metadata": {},
   "outputs": [
    {
     "name": "stdout",
     "output_type": "stream",
     "text": [
      "Training with scaled features...\n",
      "Iteration 0: Cost 0.6922087958702784\n",
      "Iteration 100: Cost 0.6183462481523766\n",
      "Iteration 200: Cost 0.5726902784144299\n",
      "Iteration 300: Cost 0.5436398088546579\n",
      "Iteration 400: Cost 0.5245503105721675\n",
      "Iteration 500: Cost 0.5116204028782889\n",
      "Iteration 600: Cost 0.50262316948259\n",
      "Iteration 700: Cost 0.4962126941996526\n",
      "Iteration 800: Cost 0.49154939048178875\n",
      "Iteration 900: Cost 0.4880939043168637\n",
      "\n",
      "Evaluating the unscaled model...\n",
      "\n",
      "Accuracy: 0.8511861709822074\n",
      "Precision: 0.9105185185185185\n",
      "Recall: 0.44626778971826897\n",
      "F1 Score: 0.5989669622843777\n"
     ]
    }
   ],
   "source": [
    "\n",
    "# Training the model (Choose one set of data: scaled or unscaled)\n",
    "print(\"Training with scaled features...\")\n",
    "weights_scaled, bias_scaled, cost_history_scaled = gradient_descent(X_train_scaled, y_train, weights, bias,\n",
    "                                                                    learning_rate, iterations, batch_size=batch_size)\n",
    "\n",
    "# Prediction function\n",
    "y_pred_test_scaled = predict(X_test_scaled, weights_scaled, bias_scaled)\n",
    "\n",
    "# Evaluate the scaled model\n",
    "print(\"\\nEvaluating the unscaled model...\")\n",
    "print(f\"\\nAccuracy: {accuracy_score(y_test, y_pred_test_scaled)}\")\n",
    "print(f\"Precision: {precision_score(y_test, y_pred_test_scaled)}\")\n",
    "print(f\"Recall: {recall_score(y_test, y_pred_test_scaled)}\")\n",
    "print(f\"F1 Score: {f1_score(y_test, y_pred_test_scaled)}\")"
   ]
  },
  {
   "cell_type": "markdown",
   "metadata": {},
   "source": [
    "* Above, the cost iterations are clearly being calculated during the run.\n",
    "* The performance metrics are demonstrating a succesful prediction. Farther along, this notebook will show the difference in performance when the 0/NaN values are NOT dropped."
   ]
  },
  {
   "cell_type": "code",
   "execution_count": 25,
   "metadata": {},
   "outputs": [
    {
     "data": {
      "image/png": "[encoded data removed]",
      "text/plain": [
       "<Figure size 640x480 with 1 Axes>"
      ]
     },
     "metadata": {},
     "output_type": "display_data"
    }
   ],
   "source": [
    "# Visualizing the cost function convergence (scaled)\n",
    "plt.plot(cost_history_scaled)\n",
    "plt.xlabel('Iteration (x100)')\n",
    "plt.ylabel('Cost')\n",
    "plt.title('Cost Function Convergence (Scaled Features)')\n",
    "plt.show()"
   ]
  },
  {
   "cell_type": "markdown",
   "metadata": {},
   "source": [
    "* The graphical visualization depicts the iteractions x-axis (number of iterations the algorithm has performed) while the y-axis, Cost, represents the value of error/loss the model absorbs in its prediction.\n",
    "* The steep decline which turns gradual as y approaches infinity, demostrates the optimization algorithm did its job during training. As iterations increased, cost decreased."
   ]
  },
  {
   "cell_type": "markdown",
   "metadata": {},
   "source": [
    "## Write- Up: Application of Gradient Descent Optimized Credit Scoring Models in Fintech \n",
    "   - Provide a brief explanation of how the credit scoring model optimized using gradient descent can be applied in the fintech industry.\n",
    "   - Discuss the potential benefits and challenges of using machine learning models for credit scoring in fintech.\n",
    "\n",
    "   ----------------------------------------------------------------------------------------"
   ]
  },
  {
   "cell_type": "markdown",
   "metadata": {},
   "source": [
    "The use of gradient descent can be used in credit scoring models among many other different areas in fintech by predicting credit worthiness of possible customers. It can help with financial management risks and the discovery of profitable customers. \n",
    "\n",
    "By using historical data and by optimizing the parameters in using gradient descent, credit providers can quickly predict behaviors and trends. \n",
    "\n",
    "Here are some of the possibilities: \n",
    "\n",
    "1. Fraud detection – This would help with finding fraudulent activities as well as preventing them with huge impact on minimizing financial loss. \n",
    "\n",
    "1. Dynamic risk assessment – This would help with finding credit worthiness in near real time. \n",
    "\n",
    "1. Automated decision making – This would help with eliminating the need of a person to approve someone’s credit and cutting time during the process. An example would be how credit cards are easily approved from websites almost instantly. \n",
    "\n",
    "1. Personalized financial products – This helps with identifying products for customers even when they are not looking for one. It can also improve current products already being used by customers. \n",
    "\n",
    "There are several benefits related to the examples given above, some of the main ones would be. \n",
    "\n",
    "1. Financial accessibility for all who are truly worthy of the service - These algorithms can approve individuals that in different times would not be approved. The most important thing is that it would be with minimal risk. \n",
    "\n",
    "2. Efficiency – There would be a great increase in efficiency which in turn could bring even more customers. \n",
    "\n",
    "2. Accuracy – Similar to accessibility, taking out of human hands and leaving for the algorithms will diminish the error possibility. \n",
    "\n",
    "2. Customer experience – No more calls or waiting to be answered, how good can that be for the customers?  \n",
    "\n",
    "All these can be such a great divisor in the financial system that if one company ignores these benefits, they could fall way behind in the competition. \n",
    "\n",
    "There are also some challenges.  \n",
    "\n",
    "1. Bias – The machine learning process depends on historical data. Depending on the source of the data, the prediction could be misleading. So, a recognized and reputable source of data is important. \n",
    "\n",
    "1. Transparency and Technical understanding – These math models and algorithms can be challenging for managers and sometime even for customers. It makes it hard to explain business decisions. \n",
    "\n",
    "1. Compliance – With evolving regulations and standards mixed with technical understanding, can be quite difficult to keep up with local laws and regulations and even worse with laws and regulations from non-local locations. \n",
    "\n",
    "1. Data privacy and security – Since data is needed, it must be determined what should be used or not. Who would determine that? \n",
    "\n",
    "In conclusion, while gradient descent optimized credit scoring models offer significant potential to revolutionize the fintech industry by making credit assessment processes more efficient, accurate, and inclusive, careful attention must be paid to the challenges of data privacy, model bias, transparency, and regulatory compliance to ensure these technologies benefit both the companies and their customers responsibly.   "
   ]
  }
 ],
 "metadata": {
  "kernelspec": {
   "display_name": "Python 3",
   "language": "python",
   "name": "python3"
  },
  "language_info": {
   "codemirror_mode": {
    "name": "ipython",
    "version": 3
   },
   "file_extension": ".py",
   "mimetype": "text/x-python",
   "name": "python",
   "nbconvert_exporter": "python",
   "pygments_lexer": "ipython3",
   "version": "3.12.0"
  }
 },
 "nbformat": 4,
 "nbformat_minor": 2
}
