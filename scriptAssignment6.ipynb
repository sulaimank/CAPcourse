{
 "cells": [
  {
   "cell_type": "markdown",
   "metadata": {},
   "source": [
    "# Script Assignment 6 - Group 1\n",
    "#### Marco Bogani, Daman Sawhney, Sulaiman Karmali, Ivan Lima, Zach Novak"
   ]
  },
  {
   "cell_type": "markdown",
   "metadata": {},
   "source": [
    "In Financial Technology (FinTech), anomaly detection plays a crucial role in identifying fraudulent activities such as money laundering or unauthorized transactions. One popular method for anomaly detection is DBSCAN (Density-Based Spatial Clustering of Applications with Noise), which effectively identifies clusters of data points that are closely packed together while marking outliers as noise. In this assignment, you are tasked with implementing a Python script to detect anomalous transactions in financial data using DBSCAN.\n",
    "\n",
    "Instructions:\n",
    "1. Download the provided financial transaction datasetLinks to an external site.. Links to an external site.Preprocess the data if necessary (e.g., normalization, feature engineering). (5 points)\n",
    "\n",
    "2. Implement the DBSCAN algorithm using the scikit-learn library. Tune the hyperparameters such as epsilon (eps) and minimum samples (min_samples) to achieve optimal performance. Cluster the transactions using DBSCAN.  (10 points)\n",
    "\n",
    "3. Identify anomalous transactions as outliers detected by DBSCAN. Analyze the characteristics of these anomalies to understand their nature. Visualize the clusters and outliers for better insights.  (5 points)\n",
    "\n",
    "Import Libraries"
   ]
  },
  {
   "cell_type": "code",
   "execution_count": null,
   "metadata": {},
   "outputs": [],
   "source": [
    "import pandas as pd"
   ]
  }
 ],
 "metadata": {
  "kernelspec": {
   "display_name": "Python 3",
   "language": "python",
   "name": "python3"
  },
  "language_info": {
   "name": "python",
   "version": "3.12.0"
  }
 },
 "nbformat": 4,
 "nbformat_minor": 2
}
